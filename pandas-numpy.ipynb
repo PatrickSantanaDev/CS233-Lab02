{
 "cells": [
  {
   "cell_type": "code",
   "execution_count": 1,
   "id": "80261496",
   "metadata": {},
   "outputs": [],
   "source": [
    "## Numpy"
   ]
  },
  {
   "cell_type": "code",
   "execution_count": 4,
   "id": "422a8445",
   "metadata": {},
   "outputs": [],
   "source": [
    "import numpy as np"
   ]
  },
  {
   "cell_type": "code",
   "execution_count": 5,
   "id": "691428f4",
   "metadata": {},
   "outputs": [
    {
     "data": {
      "text/plain": [
       "array([1, 2, 3])"
      ]
     },
     "execution_count": 5,
     "metadata": {},
     "output_type": "execute_result"
    }
   ],
   "source": [
    "list_to_convert = [1,2,3] #new\n",
    "numpy_array=np.array(list_to_convert)\n",
    "numpy_array #new"
   ]
  },
  {
   "cell_type": "code",
   "execution_count": 6,
   "id": "f1070f1e",
   "metadata": {},
   "outputs": [
    {
     "data": {
      "text/plain": [
       "(5,)"
      ]
     },
     "execution_count": 6,
     "metadata": {},
     "output_type": "execute_result"
    }
   ],
   "source": [
    "a = [1,2,3,4,5] # corrected\n",
    "a_numpy = np.array(a)\n",
    "a_numpy.shape #new"
   ]
  },
  {
   "cell_type": "code",
   "execution_count": 8,
   "id": "d2ed01e7",
   "metadata": {},
   "outputs": [
    {
     "data": {
      "text/plain": [
       "(5, 1)"
      ]
     },
     "execution_count": 8,
     "metadata": {},
     "output_type": "execute_result"
    }
   ],
   "source": [
    "row_vector = a_numpy[:,np.newaxis]\n",
    "row_vector.shape #new"
   ]
  },
  {
   "cell_type": "code",
   "execution_count": 10,
   "id": "7459088d",
   "metadata": {},
   "outputs": [
    {
     "data": {
      "text/plain": [
       "(1, 5)"
      ]
     },
     "execution_count": 10,
     "metadata": {},
     "output_type": "execute_result"
    }
   ],
   "source": [
    "col_vector = a_numpy[np.newaxis, :]\n",
    "col_vector.shape #new"
   ]
  },
  {
   "cell_type": "code",
   "execution_count": 11,
   "id": "5d7c4e74",
   "metadata": {},
   "outputs": [
    {
     "data": {
      "text/plain": [
       "array([[ 0,  1,  2,  3,  4],\n",
       "       [ 5,  6,  7,  8,  9],\n",
       "       [10, 11, 12, 13, 14]])"
      ]
     },
     "execution_count": 11,
     "metadata": {},
     "output_type": "execute_result"
    }
   ],
   "source": [
    "a = range(0,15) #list of numbers from 0 to 14\n",
    "a_numpy = np.array(a) #new \n",
    "b = a_numpy.reshape(3,5)  \n",
    "b #corrected "
   ]
  },
  {
   "cell_type": "code",
   "execution_count": 13,
   "id": "2fe70cbc",
   "metadata": {},
   "outputs": [
    {
     "data": {
      "text/plain": [
       "array([(1, 2), list([3, 4, 5]), (6, 7, 8)], dtype=object)"
      ]
     },
     "execution_count": 13,
     "metadata": {},
     "output_type": "execute_result"
    }
   ],
   "source": [
    "a = [(1,2), [3,4,(5)], (6,7,8)]\n",
    "b = np.asarray(a)\n",
    "b #corrected "
   ]
  },
  {
   "cell_type": "code",
   "execution_count": 14,
   "id": "64fadcfd",
   "metadata": {},
   "outputs": [
    {
     "data": {
      "text/plain": [
       "array([[0., 0., 0., 0.],\n",
       "       [0., 0., 0., 0.],\n",
       "       [0., 0., 0., 0.]], dtype=float16)"
      ]
     },
     "execution_count": 14,
     "metadata": {},
     "output_type": "execute_result"
    }
   ],
   "source": [
    "#code removed \n",
    "a = np.zeros((3,4), dtype = np.float16)\n",
    "a #new "
   ]
  },
  {
   "cell_type": "code",
   "execution_count": 15,
   "id": "39a753be",
   "metadata": {},
   "outputs": [
    {
     "data": {
      "text/plain": [
       "array([[1, 1, 1, 1],\n",
       "       [1, 1, 1, 1],\n",
       "       [1, 1, 1, 1]])"
      ]
     },
     "execution_count": 15,
     "metadata": {},
     "output_type": "execute_result"
    }
   ],
   "source": [
    "a = np.ones((3,4), dtype=np.int32)\n",
    "a #new "
   ]
  },
  {
   "cell_type": "code",
   "execution_count": 16,
   "id": "d03ad7e0",
   "metadata": {},
   "outputs": [
    {
     "data": {
      "text/plain": [
       "array([[1., 1., 1.],\n",
       "       [1., 1., 1.]], dtype=float16)"
      ]
     },
     "execution_count": 16,
     "metadata": {},
     "output_type": "execute_result"
    }
   ],
   "source": [
    "#code below put in a comment\n",
    "#np.full(shape_as_tuple, value_to_fill, dtype=type_you_want) \n",
    "a = np.full((2,3), 1, dtype=np.float16)\n",
    "a #new "
   ]
  },
  {
   "cell_type": "code",
   "execution_count": 18,
   "id": "29a88f7c",
   "metadata": {},
   "outputs": [
    {
     "data": {
      "text/plain": [
       "array([[    0,     0],\n",
       "       [    0, 16368]], dtype=int16)"
      ]
     },
     "execution_count": 18,
     "metadata": {},
     "output_type": "execute_result"
    }
   ],
   "source": [
    "#new cell \n",
    "#code below put in a comment\n",
    "#np.empty(shape_as_tuple,dtype=int) \n",
    "a = np.empty((2,2),dtype=np.int16)\n",
    "a #new "
   ]
  },
  {
   "cell_type": "code",
   "execution_count": 19,
   "id": "f237433b",
   "metadata": {},
   "outputs": [
    {
     "data": {
      "text/plain": [
       "(array([1. , 1.2, 1.4, 1.6, 1.8]), 0.2)"
      ]
     },
     "execution_count": 19,
     "metadata": {},
     "output_type": "execute_result"
    }
   ],
   "source": [
    "#code below put in a comment\n",
    "#np.linspace(start,stop,num=int_value,endpoint=bool_value,retstep=bool_value)\n",
    "np.linspace(1,2,num=5,endpoint=False,retstep=True)"
   ]
  },
  {
   "cell_type": "code",
   "execution_count": 20,
   "id": "9a598357",
   "metadata": {},
   "outputs": [
    {
     "data": {
      "text/plain": [
       "array([1, 3, 5, 7, 9])"
      ]
     },
     "execution_count": 20,
     "metadata": {},
     "output_type": "execute_result"
    }
   ],
   "source": [
    "#code below put in a comment \n",
    "#np.arange(start=where_to_start,stop=where_to_stop,step=step_size)\n",
    "np.arange(1, 10, 2) # new"
   ]
  },
  {
   "cell_type": "code",
   "execution_count": 21,
   "id": "9d3b4b5b",
   "metadata": {},
   "outputs": [
    {
     "name": "stdout",
     "output_type": "stream",
     "text": [
      "[[    0     0]\n",
      " [    0 16368]]\n"
     ]
    },
    {
     "data": {
      "text/plain": [
       "(2, 2)"
      ]
     },
     "execution_count": 21,
     "metadata": {},
     "output_type": "execute_result"
    }
   ],
   "source": [
    "print(a) #new\n",
    "a.shape #corrected"
   ]
  },
  {
   "cell_type": "code",
   "execution_count": 22,
   "id": "c6b88893",
   "metadata": {},
   "outputs": [
    {
     "data": {
      "text/plain": [
       "1"
      ]
     },
     "execution_count": 22,
     "metadata": {},
     "output_type": "execute_result"
    }
   ],
   "source": [
    "x = np.array([1,2,3])\n",
    "x.ndim #corrected"
   ]
  },
  {
   "cell_type": "code",
   "execution_count": 23,
   "id": "45b52960",
   "metadata": {},
   "outputs": [
    {
     "name": "stdout",
     "output_type": "stream",
     "text": [
      "[[[1 1 1 1]\n",
      "  [1 1 1 1]]\n",
      "\n",
      " [[1 1 1 1]\n",
      "  [1 1 1 1]]\n",
      "\n",
      " [[1 1 1 1]\n",
      "  [1 1 1 1]]]\n"
     ]
    },
    {
     "data": {
      "text/plain": [
       "24"
      ]
     },
     "execution_count": 23,
     "metadata": {},
     "output_type": "execute_result"
    }
   ],
   "source": [
    "x = np.ones((3,2,4),dtype=np.int16)\n",
    "print(x) #new \n",
    "x.size #corrected"
   ]
  },
  {
   "cell_type": "code",
   "execution_count": 24,
   "id": "cada78e7",
   "metadata": {},
   "outputs": [
    {
     "data": {
      "text/plain": [
       "48"
      ]
     },
     "execution_count": 24,
     "metadata": {},
     "output_type": "execute_result"
    }
   ],
   "source": [
    "#code below put in a comment \n",
    "#24 * bytes occupied by 16 bit integer = 24 * 2 = 48\n",
    "x.nbytes"
   ]
  },
  {
   "cell_type": "code",
   "execution_count": 25,
   "id": "3171c221",
   "metadata": {},
   "outputs": [
    {
     "data": {
      "text/plain": [
       "dtype('int16')"
      ]
     },
     "execution_count": 25,
     "metadata": {},
     "output_type": "execute_result"
    }
   ],
   "source": [
    "x = np.ones((2,3), dtype=np.int16)\n",
    "x.dtype #corrected \n",
    "#code here is now the text below"
   ]
  },
  {
   "cell_type": "code",
   "execution_count": 26,
   "id": "88497c0e",
   "metadata": {},
   "outputs": [
    {
     "data": {
      "text/plain": [
       "array([[1, 3],\n",
       "       [5, 6]])"
      ]
     },
     "execution_count": 26,
     "metadata": {},
     "output_type": "execute_result"
    }
   ],
   "source": [
    "y = np.array([[1,3],[5,6]])\n",
    "y #new "
   ]
  },
  {
   "cell_type": "code",
   "execution_count": 27,
   "id": "9de85a62",
   "metadata": {},
   "outputs": [
    {
     "data": {
      "text/plain": [
       "array([[1, 3],\n",
       "       [5, 6]])"
      ]
     },
     "execution_count": 27,
     "metadata": {},
     "output_type": "execute_result"
    }
   ],
   "source": [
    "#new cell \n",
    "x = np.copy(y)\n",
    "x #new "
   ]
  },
  {
   "cell_type": "code",
   "execution_count": 28,
   "id": "5b73e04d",
   "metadata": {},
   "outputs": [
    {
     "data": {
      "text/plain": [
       "array([[1000,    3],\n",
       "       [   5,    6]])"
      ]
     },
     "execution_count": 28,
     "metadata": {},
     "output_type": "execute_result"
    }
   ],
   "source": [
    "#new cell \n",
    "x[0, 0] = 1000 #corrected\n",
    "x #corrected "
   ]
  },
  {
   "cell_type": "code",
   "execution_count": 29,
   "id": "bab2c134",
   "metadata": {},
   "outputs": [
    {
     "data": {
      "text/plain": [
       "array([[1, 3],\n",
       "       [5, 6]])"
      ]
     },
     "execution_count": 29,
     "metadata": {},
     "output_type": "execute_result"
    }
   ],
   "source": [
    "y #corrected"
   ]
  },
  {
   "cell_type": "code",
   "execution_count": 30,
   "id": "6218185a",
   "metadata": {},
   "outputs": [
    {
     "data": {
      "text/plain": [
       "array([[1, 2],\n",
       "       [3, 4]])"
      ]
     },
     "execution_count": 30,
     "metadata": {},
     "output_type": "execute_result"
    }
   ],
   "source": [
    "x = np.array([[1,2],[3,4]]) #corrected\n",
    "x #corrected "
   ]
  },
  {
   "cell_type": "code",
   "execution_count": 31,
   "id": "8d040623",
   "metadata": {},
   "outputs": [
    {
     "data": {
      "text/plain": [
       "array([[1, 3],\n",
       "       [2, 4]])"
      ]
     },
     "execution_count": 31,
     "metadata": {},
     "output_type": "execute_result"
    }
   ],
   "source": [
    "#new cell\n",
    "x.T #corrected"
   ]
  },
  {
   "cell_type": "code",
   "execution_count": 32,
   "id": "5d9b2951",
   "metadata": {},
   "outputs": [
    {
     "data": {
      "text/plain": [
       "array([1, 2, 3, 4])"
      ]
     },
     "execution_count": 32,
     "metadata": {},
     "output_type": "execute_result"
    }
   ],
   "source": [
    "#code removed \n",
    "x.reshape(-1) #corrected "
   ]
  },
  {
   "cell_type": "code",
   "execution_count": 33,
   "id": "26ab00b0",
   "metadata": {},
   "outputs": [
    {
     "data": {
      "text/plain": [
       "array([1, 2, 3, 4])"
      ]
     },
     "execution_count": 33,
     "metadata": {},
     "output_type": "execute_result"
    }
   ],
   "source": [
    "#code removed \n",
    "x.ravel() #corected"
   ]
  },
  {
   "cell_type": "code",
   "execution_count": 34,
   "id": "68dae4b9",
   "metadata": {},
   "outputs": [
    {
     "data": {
      "text/plain": [
       "array([[[1., 1., 1., 1., 1.],\n",
       "        [1., 1., 1., 1., 1.],\n",
       "        [1., 1., 1., 1., 1.],\n",
       "        [1., 1., 1., 1., 1.]],\n",
       "\n",
       "       [[1., 1., 1., 1., 1.],\n",
       "        [1., 1., 1., 1., 1.],\n",
       "        [1., 1., 1., 1., 1.],\n",
       "        [1., 1., 1., 1., 1.]],\n",
       "\n",
       "       [[1., 1., 1., 1., 1.],\n",
       "        [1., 1., 1., 1., 1.],\n",
       "        [1., 1., 1., 1., 1.],\n",
       "        [1., 1., 1., 1., 1.]]])"
      ]
     },
     "execution_count": 34,
     "metadata": {},
     "output_type": "execute_result"
    }
   ],
   "source": [
    "x = np.ones((3,4,5))\n",
    "x #new "
   ]
  },
  {
   "cell_type": "code",
   "execution_count": 35,
   "id": "96beea67",
   "metadata": {},
   "outputs": [
    {
     "data": {
      "text/plain": [
       "array([[[1., 1., 1.],\n",
       "        [1., 1., 1.],\n",
       "        [1., 1., 1.],\n",
       "        [1., 1., 1.],\n",
       "        [1., 1., 1.]],\n",
       "\n",
       "       [[1., 1., 1.],\n",
       "        [1., 1., 1.],\n",
       "        [1., 1., 1.],\n",
       "        [1., 1., 1.],\n",
       "        [1., 1., 1.]],\n",
       "\n",
       "       [[1., 1., 1.],\n",
       "        [1., 1., 1.],\n",
       "        [1., 1., 1.],\n",
       "        [1., 1., 1.],\n",
       "        [1., 1., 1.]],\n",
       "\n",
       "       [[1., 1., 1.],\n",
       "        [1., 1., 1.],\n",
       "        [1., 1., 1.],\n",
       "        [1., 1., 1.],\n",
       "        [1., 1., 1.]]])"
      ]
     },
     "execution_count": 35,
     "metadata": {},
     "output_type": "execute_result"
    }
   ],
   "source": [
    "#new cell\n",
    "#code below put in a comment \n",
    "#np.moveaxis(x,axes_to_move_as_list, destination_axes_as_list)\n",
    "np.moveaxis(x, [1,2], [0,-2]) # corrected "
   ]
  },
  {
   "cell_type": "code",
   "execution_count": 36,
   "id": "bae77c2c",
   "metadata": {},
   "outputs": [
    {
     "data": {
      "text/plain": [
       "array([[[1., 1., 1., 1., 1.],\n",
       "        [1., 1., 1., 1., 1.],\n",
       "        [1., 1., 1., 1., 1.],\n",
       "        [1., 1., 1., 1., 1.]],\n",
       "\n",
       "       [[1., 1., 1., 1., 1.],\n",
       "        [1., 1., 1., 1., 1.],\n",
       "        [1., 1., 1., 1., 1.],\n",
       "        [1., 1., 1., 1., 1.]],\n",
       "\n",
       "       [[1., 1., 1., 1., 1.],\n",
       "        [1., 1., 1., 1., 1.],\n",
       "        [1., 1., 1., 1., 1.],\n",
       "        [1., 1., 1., 1., 1.]]])"
      ]
     },
     "execution_count": 36,
     "metadata": {},
     "output_type": "execute_result"
    }
   ],
   "source": [
    "x #new "
   ]
  },
  {
   "cell_type": "code",
   "execution_count": 38,
   "id": "aeb69e48",
   "metadata": {},
   "outputs": [
    {
     "name": "stdout",
     "output_type": "stream",
     "text": [
      "[[1 2]\n",
      " [3 4]]\n"
     ]
    }
   ],
   "source": [
    "x = np.array([[1,2],[3,4]])\n",
    "x.shape  #corrected \n",
    "print(x) #corrected "
   ]
  },
  {
   "cell_type": "code",
   "execution_count": 39,
   "id": "57a99d2d",
   "metadata": {},
   "outputs": [
    {
     "data": {
      "text/plain": [
       "array([[1, 3],\n",
       "       [2, 4]])"
      ]
     },
     "execution_count": 39,
     "metadata": {},
     "output_type": "execute_result"
    }
   ],
   "source": [
    "#new cell\n",
    "np.swapaxes(x,0,1)"
   ]
  },
  {
   "cell_type": "code",
   "execution_count": 40,
   "id": "d6ae3be2",
   "metadata": {},
   "outputs": [
    {
     "name": "stdout",
     "output_type": "stream",
     "text": [
      "[[[1. 1. 1. 1. 1.]\n",
      "  [1. 1. 1. 1. 1.]\n",
      "  [1. 1. 1. 1. 1.]\n",
      "  [1. 1. 1. 1. 1.]]\n",
      "\n",
      " [[1. 1. 1. 1. 1.]\n",
      "  [1. 1. 1. 1. 1.]\n",
      "  [1. 1. 1. 1. 1.]\n",
      "  [1. 1. 1. 1. 1.]]\n",
      "\n",
      " [[1. 1. 1. 1. 1.]\n",
      "  [1. 1. 1. 1. 1.]\n",
      "  [1. 1. 1. 1. 1.]\n",
      "  [1. 1. 1. 1. 1.]]]\n"
     ]
    },
    {
     "data": {
      "text/plain": [
       "(3, 4, 5)"
      ]
     },
     "execution_count": 40,
     "metadata": {},
     "output_type": "execute_result"
    }
   ],
   "source": [
    "x = np.ones((3,4,5)) #corrected \n",
    "print(x) #new \n",
    "x.shape  #corrected "
   ]
  },
  {
   "cell_type": "code",
   "execution_count": 41,
   "id": "03c1b69d",
   "metadata": {},
   "outputs": [
    {
     "name": "stdout",
     "output_type": "stream",
     "text": [
      "[[[1. 1. 1.]\n",
      "  [1. 1. 1.]\n",
      "  [1. 1. 1.]\n",
      "  [1. 1. 1.]]\n",
      "\n",
      " [[1. 1. 1.]\n",
      "  [1. 1. 1.]\n",
      "  [1. 1. 1.]\n",
      "  [1. 1. 1.]]\n",
      "\n",
      " [[1. 1. 1.]\n",
      "  [1. 1. 1.]\n",
      "  [1. 1. 1.]\n",
      "  [1. 1. 1.]]\n",
      "\n",
      " [[1. 1. 1.]\n",
      "  [1. 1. 1.]\n",
      "  [1. 1. 1.]\n",
      "  [1. 1. 1.]]\n",
      "\n",
      " [[1. 1. 1.]\n",
      "  [1. 1. 1.]\n",
      "  [1. 1. 1.]\n",
      "  [1. 1. 1.]]]\n"
     ]
    },
    {
     "data": {
      "text/plain": [
       "(5, 4, 3)"
      ]
     },
     "execution_count": 41,
     "metadata": {},
     "output_type": "execute_result"
    }
   ],
   "source": [
    "#new cell \n",
    "y = np.swapaxes(x,0,2)\n",
    "print(y)\n",
    "y.shape"
   ]
  },
  {
   "cell_type": "code",
   "execution_count": 42,
   "id": "8f9a118c",
   "metadata": {},
   "outputs": [
    {
     "name": "stdout",
     "output_type": "stream",
     "text": [
      "[[3, 4, 5, 9], [2, 6, 8, 0]]\n"
     ]
    },
    {
     "data": {
      "text/plain": [
       "list"
      ]
     },
     "execution_count": 42,
     "metadata": {},
     "output_type": "execute_result"
    }
   ],
   "source": [
    "x = np.array([[3,4,5,9],[2,6,8,0]])\n",
    "y = x.tolist()\n",
    "print(y) #new\n",
    "type(y) #corrected"
   ]
  },
  {
   "cell_type": "code",
   "execution_count": 43,
   "id": "f2b06dc8",
   "metadata": {},
   "outputs": [
    {
     "data": {
      "text/plain": [
       "array([0. , 1. , 2. , 3. , 4.2], dtype=float32)"
      ]
     },
     "execution_count": 43,
     "metadata": {},
     "output_type": "execute_result"
    }
   ],
   "source": [
    "x = np.array([0,1,2.0,3.0,4.2],dtype=np.float32)\n",
    "x #new "
   ]
  },
  {
   "cell_type": "code",
   "execution_count": 44,
   "id": "97725f98",
   "metadata": {},
   "outputs": [
    {
     "data": {
      "text/plain": [
       "array([0, 1, 2, 3, 4], dtype=int16)"
      ]
     },
     "execution_count": 44,
     "metadata": {},
     "output_type": "execute_result"
    }
   ],
   "source": [
    "#new cell\n",
    "x.astype(np.int16) # corrected"
   ]
  },
  {
   "cell_type": "code",
   "execution_count": 49,
   "id": "25a64d7c",
   "metadata": {},
   "outputs": [
    {
     "data": {
      "text/plain": [
       "array([False,  True,  True,  True,  True])"
      ]
     },
     "execution_count": 49,
     "metadata": {},
     "output_type": "execute_result"
    }
   ],
   "source": [
    "#new cell \n",
    "x.astype(bool) #corrected"
   ]
  },
  {
   "cell_type": "code",
   "execution_count": 50,
   "id": "364ca664",
   "metadata": {},
   "outputs": [
    {
     "data": {
      "text/plain": [
       "(array([1, 2, 3, 4], dtype=int64),)"
      ]
     },
     "execution_count": 50,
     "metadata": {},
     "output_type": "execute_result"
    }
   ],
   "source": [
    "x = np.array([0,1,2.0,3.0,4.2],dtype=np.float32)\n",
    "x.nonzero() #corrected"
   ]
  },
  {
   "cell_type": "code",
   "execution_count": 51,
   "id": "dc6b0f7a",
   "metadata": {},
   "outputs": [
    {
     "data": {
      "text/plain": [
       "(array([0, 1, 1], dtype=int64), array([1, 0, 1], dtype=int64))"
      ]
     },
     "execution_count": 51,
     "metadata": {},
     "output_type": "execute_result"
    }
   ],
   "source": [
    "#new cell\n",
    "x = np.array([[0,1],[3,5]])\n",
    "x.nonzero()"
   ]
  },
  {
   "cell_type": "code",
   "execution_count": 52,
   "id": "4536f4cf",
   "metadata": {},
   "outputs": [
    {
     "data": {
      "text/plain": [
       "array([[4, 3],\n",
       "       [3, 2]])"
      ]
     },
     "execution_count": 52,
     "metadata": {},
     "output_type": "execute_result"
    }
   ],
   "source": [
    "#comment below added as a comment\n",
    "#np.ndarray.sort(axis=axis_you_want_to_sort_by)\n",
    "x = np.array([[4,3],[3,2]]) # corrected\n",
    "x"
   ]
  },
  {
   "cell_type": "code",
   "execution_count": 53,
   "id": "c26f33ab",
   "metadata": {},
   "outputs": [
    {
     "data": {
      "text/plain": [
       "array([[3, 4],\n",
       "       [2, 3]])"
      ]
     },
     "execution_count": 53,
     "metadata": {},
     "output_type": "execute_result"
    }
   ],
   "source": [
    "#new cell\n",
    "x.sort(axis=1) #sort each row\n",
    "#code removed\n",
    "x #new "
   ]
  },
  {
   "cell_type": "code",
   "execution_count": 54,
   "id": "4c45e871",
   "metadata": {},
   "outputs": [
    {
     "data": {
      "text/plain": [
       "array([[2, 3],\n",
       "       [3, 4]])"
      ]
     },
     "execution_count": 54,
     "metadata": {},
     "output_type": "execute_result"
    }
   ],
   "source": [
    "#new cell \n",
    "x.sort(axis=0) #sort each col\n",
    "#code removed \n",
    "x #new "
   ]
  },
  {
   "cell_type": "code",
   "execution_count": 55,
   "id": "2bbe4d97",
   "metadata": {},
   "outputs": [
    {
     "data": {
      "text/plain": [
       "array([[False,  True],\n",
       "       [False, False]])"
      ]
     },
     "execution_count": 55,
     "metadata": {},
     "output_type": "execute_result"
    }
   ],
   "source": [
    "x = np.array([[0,1],[2,3]])\n",
    "x == 1 #corrected"
   ]
  },
  {
   "cell_type": "code",
   "execution_count": 56,
   "id": "441d9032",
   "metadata": {},
   "outputs": [
    {
     "data": {
      "text/plain": [
       "1"
      ]
     },
     "execution_count": 56,
     "metadata": {},
     "output_type": "execute_result"
    }
   ],
   "source": [
    "(x == 1).astype(np.int16).sum()"
   ]
  },
  {
   "cell_type": "code",
   "execution_count": 57,
   "id": "226913a3",
   "metadata": {},
   "outputs": [
    {
     "data": {
      "text/plain": [
       "array([[1., 0.],\n",
       "       [0., 1.]])"
      ]
     },
     "execution_count": 57,
     "metadata": {},
     "output_type": "execute_result"
    }
   ],
   "source": [
    "a = np.eye(2) #identity matrix of size 2\n",
    "a\n",
    "#code removed "
   ]
  },
  {
   "cell_type": "code",
   "execution_count": 58,
   "id": "86938f01",
   "metadata": {},
   "outputs": [
    {
     "data": {
      "text/plain": [
       "array([[1, 2],\n",
       "       [3, 4]])"
      ]
     },
     "execution_count": 58,
     "metadata": {},
     "output_type": "execute_result"
    }
   ],
   "source": [
    "#new cell \n",
    "\n",
    "b = np.array([[1,2],[3,4]])\n",
    "b\n",
    "#code removed"
   ]
  },
  {
   "cell_type": "code",
   "execution_count": 59,
   "id": "6c70babe",
   "metadata": {},
   "outputs": [
    {
     "data": {
      "text/plain": [
       "array([[1., 2.],\n",
       "       [3., 4.]])"
      ]
     },
     "execution_count": 59,
     "metadata": {},
     "output_type": "execute_result"
    }
   ],
   "source": [
    "np.matmul(a,b) #corrected"
   ]
  },
  {
   "cell_type": "code",
   "execution_count": 60,
   "id": "d1b1f10b",
   "metadata": {},
   "outputs": [
    {
     "data": {
      "text/plain": [
       "array([[1., 0.],\n",
       "       [0., 4.]])"
      ]
     },
     "execution_count": 60,
     "metadata": {},
     "output_type": "execute_result"
    }
   ],
   "source": [
    "np.multiply(a,b)"
   ]
  },
  {
   "cell_type": "code",
   "execution_count": 61,
   "id": "3a5f8f3f",
   "metadata": {},
   "outputs": [
    {
     "data": {
      "text/plain": [
       "array([[ 1,  2,  3],\n",
       "       [ 4,  8, 16]])"
      ]
     },
     "execution_count": 61,
     "metadata": {},
     "output_type": "execute_result"
    }
   ],
   "source": [
    "#comment added below\n",
    "#np.dot(matrix1, matrix2)\n",
    "a = np.array([[1,2,3],[4,8,16]])\n",
    "a #corrected"
   ]
  },
  {
   "cell_type": "code",
   "execution_count": 62,
   "id": "06c99dc9",
   "metadata": {},
   "outputs": [
    {
     "data": {
      "text/plain": [
       "array([[ 5],\n",
       "       [ 6],\n",
       "       [11]])"
      ]
     },
     "execution_count": 62,
     "metadata": {},
     "output_type": "execute_result"
    }
   ],
   "source": [
    "b = np.array([5,6,11]).reshape(-1,1)\n",
    "b #corrected"
   ]
  },
  {
   "cell_type": "code",
   "execution_count": 63,
   "id": "10eb26f5",
   "metadata": {},
   "outputs": [
    {
     "data": {
      "text/plain": [
       "array([[ 50],\n",
       "       [244]])"
      ]
     },
     "execution_count": 63,
     "metadata": {},
     "output_type": "execute_result"
    }
   ],
   "source": [
    "np.dot(a,b) #corrected"
   ]
  },
  {
   "cell_type": "code",
   "execution_count": 64,
   "id": "90ccc39e",
   "metadata": {},
   "outputs": [
    {
     "data": {
      "text/plain": [
       "array([[1, 2, 3, 4]])"
      ]
     },
     "execution_count": 64,
     "metadata": {},
     "output_type": "execute_result"
    }
   ],
   "source": [
    "a = np.array([[1, 2, 3, 4]]) #corrected\n",
    "a #new "
   ]
  },
  {
   "cell_type": "code",
   "execution_count": 65,
   "id": "10b771a3",
   "metadata": {},
   "outputs": [
    {
     "data": {
      "text/plain": [
       "array([[4],\n",
       "       [5],\n",
       "       [6],\n",
       "       [7]])"
      ]
     },
     "execution_count": 65,
     "metadata": {},
     "output_type": "execute_result"
    }
   ],
   "source": [
    "#new cell \n",
    "\n",
    "b = np.array([4,5,6,7]).reshape(-1,1)\n",
    "b #corrected"
   ]
  },
  {
   "cell_type": "code",
   "execution_count": 66,
   "id": "f2e0e738",
   "metadata": {},
   "outputs": [
    {
     "data": {
      "text/plain": [
       "array([[60]])"
      ]
     },
     "execution_count": 66,
     "metadata": {},
     "output_type": "execute_result"
    }
   ],
   "source": [
    "np.dot(a,b) #corrected "
   ]
  },
  {
   "cell_type": "code",
   "execution_count": 67,
   "id": "f094258e",
   "metadata": {},
   "outputs": [
    {
     "data": {
      "text/plain": [
       "array([-3,  6, -3])"
      ]
     },
     "execution_count": 67,
     "metadata": {},
     "output_type": "execute_result"
    }
   ],
   "source": [
    "x = [1,2,3]\n",
    "y = [4,5,6]\n",
    "z = np.cross(x, y)\n",
    "z #corrected"
   ]
  },
  {
   "cell_type": "code",
   "execution_count": 68,
   "id": "410f7ab6",
   "metadata": {},
   "outputs": [
    {
     "data": {
      "text/plain": [
       "array([5. , 4.5, 3.5, 2.5, 4.5, 7. ], dtype=float16)"
      ]
     },
     "execution_count": 68,
     "metadata": {},
     "output_type": "execute_result"
    }
   ],
   "source": [
    "x = np.array([5, 10, 14, 17, 19, 26], dtype=np.float16)\n",
    "np.gradient(x) #corrected "
   ]
  },
  {
   "cell_type": "code",
   "execution_count": 69,
   "id": "dbcfb017",
   "metadata": {},
   "outputs": [
    {
     "data": {
      "text/plain": [
       "array([[2, 4, 9],\n",
       "       [3, 1, 5],\n",
       "       [7, 8, 0]])"
      ]
     },
     "execution_count": 69,
     "metadata": {},
     "output_type": "execute_result"
    }
   ],
   "source": [
    "#entire cell rewritten, new cells added \n",
    "x = np.array([[2,4,9],[3,1,5],[7,8,0]]) #new\n",
    "x #new"
   ]
  },
  {
   "cell_type": "code",
   "execution_count": 70,
   "id": "2396a0b1",
   "metadata": {},
   "outputs": [
    {
     "data": {
      "text/plain": [
       "5"
      ]
     },
     "execution_count": 70,
     "metadata": {},
     "output_type": "execute_result"
    }
   ],
   "source": [
    "#new cell\n",
    "#For a single element use:\n",
    "#x[r,c], where r,c are row and col number of the element.\n",
    "x[1,2] #new "
   ]
  },
  {
   "cell_type": "code",
   "execution_count": 71,
   "id": "d4f6cf70",
   "metadata": {},
   "outputs": [
    {
     "data": {
      "text/plain": [
       "array([2, 4, 7, 8])"
      ]
     },
     "execution_count": 71,
     "metadata": {},
     "output_type": "execute_result"
    }
   ],
   "source": [
    "#new cell \n",
    "#For multiple, non-contiguous elements use:\n",
    "#x[list_of_rows,list_of_cols]\n",
    "x[[0,0,2,2],[0,1,0,1]] #corrected"
   ]
  },
  {
   "cell_type": "code",
   "execution_count": 72,
   "id": "afdf44bb",
   "metadata": {},
   "outputs": [
    {
     "data": {
      "text/plain": [
       "array([[2, 4],\n",
       "       [7, 8]])"
      ]
     },
     "execution_count": 72,
     "metadata": {},
     "output_type": "execute_result"
    }
   ],
   "source": [
    "#new cell \n",
    "#If one of the rows or cols are continuous, \n",
    "#it's easier to use a range of indices: \n",
    "x[[0,2],0:2] #corrected "
   ]
  },
  {
   "cell_type": "code",
   "execution_count": 73,
   "id": "fafdf178",
   "metadata": {},
   "outputs": [
    {
     "data": {
      "text/plain": [
       "array([[3, 5, 8],\n",
       "       [4, 5, 6],\n",
       "       [9, 7, 2]])"
      ]
     },
     "execution_count": 73,
     "metadata": {},
     "output_type": "execute_result"
    }
   ],
   "source": [
    "a = np.array([[3,5,8],[4,5,6],[9,7,2]]) #corrected\n",
    "a #new"
   ]
  },
  {
   "cell_type": "code",
   "execution_count": 74,
   "id": "1a22983f",
   "metadata": {},
   "outputs": [
    {
     "data": {
      "text/plain": [
       "array([2, 3, 4])"
      ]
     },
     "execution_count": 74,
     "metadata": {},
     "output_type": "execute_result"
    }
   ],
   "source": [
    "#new cell\n",
    "b = np.array([2,3,4]) #corrected\n",
    "b #new"
   ]
  },
  {
   "cell_type": "code",
   "execution_count": 75,
   "id": "f1f2bc48",
   "metadata": {},
   "outputs": [
    {
     "data": {
      "text/plain": [
       "(3, 3)"
      ]
     },
     "execution_count": 75,
     "metadata": {},
     "output_type": "execute_result"
    }
   ],
   "source": [
    "#new cell\n",
    "a.shape"
   ]
  },
  {
   "cell_type": "code",
   "execution_count": 76,
   "id": "8973a076",
   "metadata": {},
   "outputs": [
    {
     "data": {
      "text/plain": [
       "(3,)"
      ]
     },
     "execution_count": 76,
     "metadata": {},
     "output_type": "execute_result"
    }
   ],
   "source": [
    "#new cell\n",
    "b.shape"
   ]
  },
  {
   "cell_type": "code",
   "execution_count": 77,
   "id": "b1b5e845",
   "metadata": {},
   "outputs": [
    {
     "data": {
      "text/plain": [
       "array([[2, 3, 4],\n",
       "       [2, 3, 4],\n",
       "       [2, 3, 4]])"
      ]
     },
     "execution_count": 77,
     "metadata": {},
     "output_type": "execute_result"
    }
   ],
   "source": [
    "#new cell \n",
    "np.array([[2,3,4], [2,3,4], [2,3,4]])"
   ]
  },
  {
   "cell_type": "code",
   "execution_count": 78,
   "id": "729f6098",
   "metadata": {},
   "outputs": [
    {
     "data": {
      "text/plain": [
       "array([[ 5,  8, 12],\n",
       "       [ 6,  8, 10],\n",
       "       [11, 10,  6]])"
      ]
     },
     "execution_count": 78,
     "metadata": {},
     "output_type": "execute_result"
    }
   ],
   "source": [
    "#new cell\n",
    "a + b #corrected "
   ]
  },
  {
   "cell_type": "code",
   "execution_count": 2,
   "id": "a16f6aa0",
   "metadata": {},
   "outputs": [],
   "source": [
    "## Pandas"
   ]
  },
  {
   "cell_type": "code",
   "execution_count": 3,
   "id": "7c5299ec",
   "metadata": {},
   "outputs": [],
   "source": [
    "import pandas as pd\n",
    "import numpy as np"
   ]
  },
  {
   "cell_type": "code",
   "execution_count": 4,
   "id": "36a27974",
   "metadata": {},
   "outputs": [],
   "source": [
    "#df = pd.read_csv(file_path, sep=’,’, header = 0, index_col=False,names=None)"
   ]
  },
  {
   "cell_type": "code",
   "execution_count": 6,
   "id": "8eaf16a0",
   "metadata": {
    "scrolled": true
   },
   "outputs": [
    {
     "data": {
      "text/html": [
       "<div>\n",
       "<style scoped>\n",
       "    .dataframe tbody tr th:only-of-type {\n",
       "        vertical-align: middle;\n",
       "    }\n",
       "\n",
       "    .dataframe tbody tr th {\n",
       "        vertical-align: top;\n",
       "    }\n",
       "\n",
       "    .dataframe thead th {\n",
       "        text-align: right;\n",
       "    }\n",
       "</style>\n",
       "<table border=\"1\" class=\"dataframe\">\n",
       "  <thead>\n",
       "    <tr style=\"text-align: right;\">\n",
       "      <th></th>\n",
       "      <th>Votes</th>\n",
       "      <th>Rank</th>\n",
       "      <th>Title</th>\n",
       "      <th>Year</th>\n",
       "      <th>Decade</th>\n",
       "    </tr>\n",
       "  </thead>\n",
       "  <tbody>\n",
       "    <tr>\n",
       "      <th>1</th>\n",
       "      <td>132823</td>\n",
       "      <td>8.3</td>\n",
       "      <td>Singin' in the Rain (1952)</td>\n",
       "      <td>1952</td>\n",
       "      <td>1950</td>\n",
       "    </tr>\n",
       "    <tr>\n",
       "      <th>2</th>\n",
       "      <td>74178</td>\n",
       "      <td>8.3</td>\n",
       "      <td>All About Eve (1950)</td>\n",
       "      <td>1950</td>\n",
       "      <td>1950</td>\n",
       "    </tr>\n",
       "    <tr>\n",
       "      <th>3</th>\n",
       "      <td>635139</td>\n",
       "      <td>8.6</td>\n",
       "      <td>Léon (1994)</td>\n",
       "      <td>1994</td>\n",
       "      <td>1990</td>\n",
       "    </tr>\n",
       "    <tr>\n",
       "      <th>4</th>\n",
       "      <td>145514</td>\n",
       "      <td>8.2</td>\n",
       "      <td>The Elephant Man (1980)</td>\n",
       "      <td>1980</td>\n",
       "      <td>1980</td>\n",
       "    </tr>\n",
       "    <tr>\n",
       "      <th>5</th>\n",
       "      <td>425461</td>\n",
       "      <td>8.3</td>\n",
       "      <td>Full Metal Jacket (1987)</td>\n",
       "      <td>1987</td>\n",
       "      <td>1980</td>\n",
       "    </tr>\n",
       "  </tbody>\n",
       "</table>\n",
       "</div>"
      ],
      "text/plain": [
       "    Votes  Rank                       Title  Year  Decade\n",
       "1  132823   8.3  Singin' in the Rain (1952)  1952    1950\n",
       "2   74178   8.3        All About Eve (1950)  1950    1950\n",
       "3  635139   8.6                 Léon (1994)  1994    1990\n",
       "4  145514   8.2     The Elephant Man (1980)  1980    1980\n",
       "5  425461   8.3    Full Metal Jacket (1987)  1987    1980"
      ]
     },
     "execution_count": 6,
     "metadata": {},
     "output_type": "execute_result"
    }
   ],
   "source": [
    "df_1 = pd.read_csv(\"imdb_ratings.csv\")\n",
    "# relabel index to start at 1 \n",
    "df_1 = df_1.reindex(index=np.arange(1, df_1.shape[0], 1))\n",
    "df_1.head()"
   ]
  },
  {
   "cell_type": "code",
   "execution_count": 7,
   "id": "ff4af8cf",
   "metadata": {},
   "outputs": [],
   "source": [
    "#where c1, c2, and c3 are lists\n",
    "#dic = {'first_col_name':c1,'second_col_names':c2,'3rd_col_name':c3} \n",
    "#df = pd.DataFrame(data=d_dic)"
   ]
  },
  {
   "cell_type": "code",
   "execution_count": 8,
   "id": "216e0a82",
   "metadata": {},
   "outputs": [
    {
     "data": {
      "text/plain": [
       "{'states': ['Ohio', 'Ohio', 'Ohio', 'Nevada', 'Nevada', 'Nevada'],\n",
       " 'year': [2000, 2001, 2002, 2001, 2002, 2003],\n",
       " 'pop': [1.5, 0.17, 3.6, 2.4, 2.9, 3.2]}"
      ]
     },
     "execution_count": 8,
     "metadata": {},
     "output_type": "execute_result"
    }
   ],
   "source": [
    "dic_1= {'states': ['Ohio', 'Ohio', 'Ohio', 'Nevada', 'Nevada', 'Nevada'],\n",
    "         'year': [2000, 2001, 2002, 2001, 2002, 2003],\n",
    "         'pop': [1.5, .17, 3.6, 2.4, 2.9, 3.2]} \n",
    "dic_1"
   ]
  },
  {
   "cell_type": "code",
   "execution_count": 9,
   "id": "51638d89",
   "metadata": {},
   "outputs": [
    {
     "data": {
      "text/html": [
       "<div>\n",
       "<style scoped>\n",
       "    .dataframe tbody tr th:only-of-type {\n",
       "        vertical-align: middle;\n",
       "    }\n",
       "\n",
       "    .dataframe tbody tr th {\n",
       "        vertical-align: top;\n",
       "    }\n",
       "\n",
       "    .dataframe thead th {\n",
       "        text-align: right;\n",
       "    }\n",
       "</style>\n",
       "<table border=\"1\" class=\"dataframe\">\n",
       "  <thead>\n",
       "    <tr style=\"text-align: right;\">\n",
       "      <th></th>\n",
       "      <th>states</th>\n",
       "      <th>year</th>\n",
       "      <th>pop</th>\n",
       "    </tr>\n",
       "  </thead>\n",
       "  <tbody>\n",
       "    <tr>\n",
       "      <th>0</th>\n",
       "      <td>Ohio</td>\n",
       "      <td>2000</td>\n",
       "      <td>1.50</td>\n",
       "    </tr>\n",
       "    <tr>\n",
       "      <th>1</th>\n",
       "      <td>Ohio</td>\n",
       "      <td>2001</td>\n",
       "      <td>0.17</td>\n",
       "    </tr>\n",
       "    <tr>\n",
       "      <th>2</th>\n",
       "      <td>Ohio</td>\n",
       "      <td>2002</td>\n",
       "      <td>3.60</td>\n",
       "    </tr>\n",
       "    <tr>\n",
       "      <th>3</th>\n",
       "      <td>Nevada</td>\n",
       "      <td>2001</td>\n",
       "      <td>2.40</td>\n",
       "    </tr>\n",
       "    <tr>\n",
       "      <th>4</th>\n",
       "      <td>Nevada</td>\n",
       "      <td>2002</td>\n",
       "      <td>2.90</td>\n",
       "    </tr>\n",
       "    <tr>\n",
       "      <th>5</th>\n",
       "      <td>Nevada</td>\n",
       "      <td>2003</td>\n",
       "      <td>3.20</td>\n",
       "    </tr>\n",
       "  </tbody>\n",
       "</table>\n",
       "</div>"
      ],
      "text/plain": [
       "   states  year   pop\n",
       "0    Ohio  2000  1.50\n",
       "1    Ohio  2001  0.17\n",
       "2    Ohio  2002  3.60\n",
       "3  Nevada  2001  2.40\n",
       "4  Nevada  2002  2.90\n",
       "5  Nevada  2003  3.20"
      ]
     },
     "execution_count": 9,
     "metadata": {},
     "output_type": "execute_result"
    }
   ],
   "source": [
    "df_2=pd.DataFrame(data=dic_1)\n",
    "df_2"
   ]
  },
  {
   "cell_type": "code",
   "execution_count": 10,
   "id": "0eb9eac7",
   "metadata": {},
   "outputs": [],
   "source": [
    "#np_data = any NumPy array\n",
    "#df = pd.DataFrame(data=np_data, columns=list_of_Col_names)"
   ]
  },
  {
   "cell_type": "code",
   "execution_count": 11,
   "id": "49fce49f",
   "metadata": {},
   "outputs": [
    {
     "data": {
      "text/plain": [
       "array([[6. , 7.5, 8. ],\n",
       "       [0. , 1. , 2. ],\n",
       "       [4. , 2. , 6. ]])"
      ]
     },
     "execution_count": 11,
     "metadata": {},
     "output_type": "execute_result"
    }
   ],
   "source": [
    "np_data_1=np.array([[6, 7.5, 8], [0, 1, 2.0], [4, 2, 6]])\n",
    "np_data_1"
   ]
  },
  {
   "cell_type": "code",
   "execution_count": 12,
   "id": "8ebd115a",
   "metadata": {},
   "outputs": [],
   "source": [
    "col_names=['Joe', 'Ben', 'Ann']"
   ]
  },
  {
   "cell_type": "code",
   "execution_count": 13,
   "id": "783fe0d0",
   "metadata": {},
   "outputs": [
    {
     "data": {
      "text/html": [
       "<div>\n",
       "<style scoped>\n",
       "    .dataframe tbody tr th:only-of-type {\n",
       "        vertical-align: middle;\n",
       "    }\n",
       "\n",
       "    .dataframe tbody tr th {\n",
       "        vertical-align: top;\n",
       "    }\n",
       "\n",
       "    .dataframe thead th {\n",
       "        text-align: right;\n",
       "    }\n",
       "</style>\n",
       "<table border=\"1\" class=\"dataframe\">\n",
       "  <thead>\n",
       "    <tr style=\"text-align: right;\">\n",
       "      <th></th>\n",
       "      <th>Joe</th>\n",
       "      <th>Ben</th>\n",
       "      <th>Ann</th>\n",
       "    </tr>\n",
       "  </thead>\n",
       "  <tbody>\n",
       "    <tr>\n",
       "      <th>0</th>\n",
       "      <td>6.0</td>\n",
       "      <td>7.5</td>\n",
       "      <td>8.0</td>\n",
       "    </tr>\n",
       "    <tr>\n",
       "      <th>1</th>\n",
       "      <td>0.0</td>\n",
       "      <td>1.0</td>\n",
       "      <td>2.0</td>\n",
       "    </tr>\n",
       "    <tr>\n",
       "      <th>2</th>\n",
       "      <td>4.0</td>\n",
       "      <td>2.0</td>\n",
       "      <td>6.0</td>\n",
       "    </tr>\n",
       "  </tbody>\n",
       "</table>\n",
       "</div>"
      ],
      "text/plain": [
       "   Joe  Ben  Ann\n",
       "0  6.0  7.5  8.0\n",
       "1  0.0  1.0  2.0\n",
       "2  4.0  2.0  6.0"
      ]
     },
     "execution_count": 13,
     "metadata": {},
     "output_type": "execute_result"
    }
   ],
   "source": [
    "df_3=pd.DataFrame(data=np_data_1, columns=col_names)\n",
    "df_3"
   ]
  },
  {
   "cell_type": "code",
   "execution_count": 14,
   "id": "3b1829f1",
   "metadata": {},
   "outputs": [
    {
     "data": {
      "text/html": [
       "<div>\n",
       "<style scoped>\n",
       "    .dataframe tbody tr th:only-of-type {\n",
       "        vertical-align: middle;\n",
       "    }\n",
       "\n",
       "    .dataframe tbody tr th {\n",
       "        vertical-align: top;\n",
       "    }\n",
       "\n",
       "    .dataframe thead th {\n",
       "        text-align: right;\n",
       "    }\n",
       "</style>\n",
       "<table border=\"1\" class=\"dataframe\">\n",
       "  <thead>\n",
       "    <tr style=\"text-align: right;\">\n",
       "      <th></th>\n",
       "      <th>Votes</th>\n",
       "      <th>Rank</th>\n",
       "      <th>Title</th>\n",
       "      <th>Year</th>\n",
       "      <th>Decade</th>\n",
       "    </tr>\n",
       "  </thead>\n",
       "  <tbody>\n",
       "    <tr>\n",
       "      <th>1</th>\n",
       "      <td>132823</td>\n",
       "      <td>8.3</td>\n",
       "      <td>Singin' in the Rain (1952)</td>\n",
       "      <td>1952</td>\n",
       "      <td>1950</td>\n",
       "    </tr>\n",
       "    <tr>\n",
       "      <th>2</th>\n",
       "      <td>74178</td>\n",
       "      <td>8.3</td>\n",
       "      <td>All About Eve (1950)</td>\n",
       "      <td>1950</td>\n",
       "      <td>1950</td>\n",
       "    </tr>\n",
       "    <tr>\n",
       "      <th>3</th>\n",
       "      <td>635139</td>\n",
       "      <td>8.6</td>\n",
       "      <td>Léon (1994)</td>\n",
       "      <td>1994</td>\n",
       "      <td>1990</td>\n",
       "    </tr>\n",
       "    <tr>\n",
       "      <th>4</th>\n",
       "      <td>145514</td>\n",
       "      <td>8.2</td>\n",
       "      <td>The Elephant Man (1980)</td>\n",
       "      <td>1980</td>\n",
       "      <td>1980</td>\n",
       "    </tr>\n",
       "    <tr>\n",
       "      <th>5</th>\n",
       "      <td>425461</td>\n",
       "      <td>8.3</td>\n",
       "      <td>Full Metal Jacket (1987)</td>\n",
       "      <td>1987</td>\n",
       "      <td>1980</td>\n",
       "    </tr>\n",
       "  </tbody>\n",
       "</table>\n",
       "</div>"
      ],
      "text/plain": [
       "    Votes  Rank                       Title  Year  Decade\n",
       "1  132823   8.3  Singin' in the Rain (1952)  1952    1950\n",
       "2   74178   8.3        All About Eve (1950)  1950    1950\n",
       "3  635139   8.6                 Léon (1994)  1994    1990\n",
       "4  145514   8.2     The Elephant Man (1980)  1980    1980\n",
       "5  425461   8.3    Full Metal Jacket (1987)  1987    1980"
      ]
     },
     "execution_count": 14,
     "metadata": {},
     "output_type": "execute_result"
    }
   ],
   "source": [
    "df_1.head() #by default, displays first 5 rows "
   ]
  },
  {
   "cell_type": "code",
   "execution_count": 15,
   "id": "c8c22650",
   "metadata": {},
   "outputs": [
    {
     "data": {
      "text/html": [
       "<div>\n",
       "<style scoped>\n",
       "    .dataframe tbody tr th:only-of-type {\n",
       "        vertical-align: middle;\n",
       "    }\n",
       "\n",
       "    .dataframe tbody tr th {\n",
       "        vertical-align: top;\n",
       "    }\n",
       "\n",
       "    .dataframe thead th {\n",
       "        text-align: right;\n",
       "    }\n",
       "</style>\n",
       "<table border=\"1\" class=\"dataframe\">\n",
       "  <thead>\n",
       "    <tr style=\"text-align: right;\">\n",
       "      <th></th>\n",
       "      <th>Votes</th>\n",
       "      <th>Rank</th>\n",
       "      <th>Title</th>\n",
       "      <th>Year</th>\n",
       "      <th>Decade</th>\n",
       "    </tr>\n",
       "  </thead>\n",
       "  <tbody>\n",
       "    <tr>\n",
       "      <th>1</th>\n",
       "      <td>132823</td>\n",
       "      <td>8.3</td>\n",
       "      <td>Singin' in the Rain (1952)</td>\n",
       "      <td>1952</td>\n",
       "      <td>1950</td>\n",
       "    </tr>\n",
       "    <tr>\n",
       "      <th>2</th>\n",
       "      <td>74178</td>\n",
       "      <td>8.3</td>\n",
       "      <td>All About Eve (1950)</td>\n",
       "      <td>1950</td>\n",
       "      <td>1950</td>\n",
       "    </tr>\n",
       "    <tr>\n",
       "      <th>3</th>\n",
       "      <td>635139</td>\n",
       "      <td>8.6</td>\n",
       "      <td>Léon (1994)</td>\n",
       "      <td>1994</td>\n",
       "      <td>1990</td>\n",
       "    </tr>\n",
       "    <tr>\n",
       "      <th>4</th>\n",
       "      <td>145514</td>\n",
       "      <td>8.2</td>\n",
       "      <td>The Elephant Man (1980)</td>\n",
       "      <td>1980</td>\n",
       "      <td>1980</td>\n",
       "    </tr>\n",
       "    <tr>\n",
       "      <th>5</th>\n",
       "      <td>425461</td>\n",
       "      <td>8.3</td>\n",
       "      <td>Full Metal Jacket (1987)</td>\n",
       "      <td>1987</td>\n",
       "      <td>1980</td>\n",
       "    </tr>\n",
       "    <tr>\n",
       "      <th>6</th>\n",
       "      <td>441174</td>\n",
       "      <td>8.1</td>\n",
       "      <td>Gone Girl (2014)</td>\n",
       "      <td>2014</td>\n",
       "      <td>2010</td>\n",
       "    </tr>\n",
       "    <tr>\n",
       "      <th>7</th>\n",
       "      <td>850601</td>\n",
       "      <td>8.3</td>\n",
       "      <td>Batman Begins (2005)</td>\n",
       "      <td>2005</td>\n",
       "      <td>2000</td>\n",
       "    </tr>\n",
       "    <tr>\n",
       "      <th>8</th>\n",
       "      <td>37664</td>\n",
       "      <td>8.2</td>\n",
       "      <td>Judgment at Nuremberg (1961)</td>\n",
       "      <td>1961</td>\n",
       "      <td>1960</td>\n",
       "    </tr>\n",
       "    <tr>\n",
       "      <th>9</th>\n",
       "      <td>46987</td>\n",
       "      <td>8.0</td>\n",
       "      <td>Relatos salvajes (2014)</td>\n",
       "      <td>2014</td>\n",
       "      <td>2010</td>\n",
       "    </tr>\n",
       "    <tr>\n",
       "      <th>10</th>\n",
       "      <td>56842</td>\n",
       "      <td>8.1</td>\n",
       "      <td>It Happened One Night (1934)</td>\n",
       "      <td>1934</td>\n",
       "      <td>1930</td>\n",
       "    </tr>\n",
       "  </tbody>\n",
       "</table>\n",
       "</div>"
      ],
      "text/plain": [
       "     Votes  Rank                         Title  Year  Decade\n",
       "1   132823   8.3    Singin' in the Rain (1952)  1952    1950\n",
       "2    74178   8.3          All About Eve (1950)  1950    1950\n",
       "3   635139   8.6                   Léon (1994)  1994    1990\n",
       "4   145514   8.2       The Elephant Man (1980)  1980    1980\n",
       "5   425461   8.3      Full Metal Jacket (1987)  1987    1980\n",
       "6   441174   8.1              Gone Girl (2014)  2014    2010\n",
       "7   850601   8.3          Batman Begins (2005)  2005    2000\n",
       "8    37664   8.2  Judgment at Nuremberg (1961)  1961    1960\n",
       "9    46987   8.0       Relatos salvajes (2014)  2014    2010\n",
       "10   56842   8.1  It Happened One Night (1934)  1934    1930"
      ]
     },
     "execution_count": 15,
     "metadata": {},
     "output_type": "execute_result"
    }
   ],
   "source": [
    "df_1.head(10)#top 10 "
   ]
  },
  {
   "cell_type": "code",
   "execution_count": 16,
   "id": "3f03b2be",
   "metadata": {},
   "outputs": [
    {
     "data": {
      "text/html": [
       "<div>\n",
       "<style scoped>\n",
       "    .dataframe tbody tr th:only-of-type {\n",
       "        vertical-align: middle;\n",
       "    }\n",
       "\n",
       "    .dataframe tbody tr th {\n",
       "        vertical-align: top;\n",
       "    }\n",
       "\n",
       "    .dataframe thead th {\n",
       "        text-align: right;\n",
       "    }\n",
       "</style>\n",
       "<table border=\"1\" class=\"dataframe\">\n",
       "  <thead>\n",
       "    <tr style=\"text-align: right;\">\n",
       "      <th></th>\n",
       "      <th>Votes</th>\n",
       "      <th>Rank</th>\n",
       "      <th>Title</th>\n",
       "      <th>Year</th>\n",
       "      <th>Decade</th>\n",
       "    </tr>\n",
       "  </thead>\n",
       "  <tbody>\n",
       "    <tr>\n",
       "      <th>240</th>\n",
       "      <td>117590</td>\n",
       "      <td>8.4</td>\n",
       "      <td>The Great Dictator (1940)</td>\n",
       "      <td>1940</td>\n",
       "      <td>1940</td>\n",
       "    </tr>\n",
       "    <tr>\n",
       "      <th>241</th>\n",
       "      <td>85012</td>\n",
       "      <td>8.1</td>\n",
       "      <td>Strangers on a Train (1951)</td>\n",
       "      <td>1951</td>\n",
       "      <td>1950</td>\n",
       "    </tr>\n",
       "    <tr>\n",
       "      <th>242</th>\n",
       "      <td>476501</td>\n",
       "      <td>8.6</td>\n",
       "      <td>Cidade de Deus (2002)</td>\n",
       "      <td>2002</td>\n",
       "      <td>2000</td>\n",
       "    </tr>\n",
       "    <tr>\n",
       "      <th>243</th>\n",
       "      <td>268905</td>\n",
       "      <td>8.4</td>\n",
       "      <td>Citizen Kane (1941)</td>\n",
       "      <td>1941</td>\n",
       "      <td>1940</td>\n",
       "    </tr>\n",
       "    <tr>\n",
       "      <th>244</th>\n",
       "      <td>69988</td>\n",
       "      <td>8.1</td>\n",
       "      <td>8½ (1963)</td>\n",
       "      <td>1963</td>\n",
       "      <td>1960</td>\n",
       "    </tr>\n",
       "    <tr>\n",
       "      <th>245</th>\n",
       "      <td>1078416</td>\n",
       "      <td>8.7</td>\n",
       "      <td>Forrest Gump (1994)</td>\n",
       "      <td>1994</td>\n",
       "      <td>1990</td>\n",
       "    </tr>\n",
       "    <tr>\n",
       "      <th>246</th>\n",
       "      <td>31003</td>\n",
       "      <td>8.1</td>\n",
       "      <td>Le salaire de la peur (1953)</td>\n",
       "      <td>1953</td>\n",
       "      <td>1950</td>\n",
       "    </tr>\n",
       "    <tr>\n",
       "      <th>247</th>\n",
       "      <td>167076</td>\n",
       "      <td>8.2</td>\n",
       "      <td>3 Idiots (2009)</td>\n",
       "      <td>2009</td>\n",
       "      <td>2000</td>\n",
       "    </tr>\n",
       "    <tr>\n",
       "      <th>248</th>\n",
       "      <td>91689</td>\n",
       "      <td>8.1</td>\n",
       "      <td>Network (1976)</td>\n",
       "      <td>1976</td>\n",
       "      <td>1970</td>\n",
       "    </tr>\n",
       "    <tr>\n",
       "      <th>249</th>\n",
       "      <td>589477</td>\n",
       "      <td>8.3</td>\n",
       "      <td>Eternal Sunshine of the Spotless Mind (2004)</td>\n",
       "      <td>2004</td>\n",
       "      <td>2000</td>\n",
       "    </tr>\n",
       "  </tbody>\n",
       "</table>\n",
       "</div>"
      ],
      "text/plain": [
       "       Votes  Rank                                         Title  Year  Decade\n",
       "240   117590   8.4                     The Great Dictator (1940)  1940    1940\n",
       "241    85012   8.1                   Strangers on a Train (1951)  1951    1950\n",
       "242   476501   8.6                         Cidade de Deus (2002)  2002    2000\n",
       "243   268905   8.4                           Citizen Kane (1941)  1941    1940\n",
       "244    69988   8.1                                     8½ (1963)  1963    1960\n",
       "245  1078416   8.7                           Forrest Gump (1994)  1994    1990\n",
       "246    31003   8.1                  Le salaire de la peur (1953)  1953    1950\n",
       "247   167076   8.2                               3 Idiots (2009)  2009    2000\n",
       "248    91689   8.1                                Network (1976)  1976    1970\n",
       "249   589477   8.3  Eternal Sunshine of the Spotless Mind (2004)  2004    2000"
      ]
     },
     "execution_count": 16,
     "metadata": {},
     "output_type": "execute_result"
    }
   ],
   "source": [
    "df_1.tail(10)#bottom 10"
   ]
  },
  {
   "cell_type": "code",
   "execution_count": 17,
   "id": "3f7aa713",
   "metadata": {},
   "outputs": [
    {
     "data": {
      "text/html": [
       "<div>\n",
       "<style scoped>\n",
       "    .dataframe tbody tr th:only-of-type {\n",
       "        vertical-align: middle;\n",
       "    }\n",
       "\n",
       "    .dataframe tbody tr th {\n",
       "        vertical-align: top;\n",
       "    }\n",
       "\n",
       "    .dataframe thead th {\n",
       "        text-align: right;\n",
       "    }\n",
       "</style>\n",
       "<table border=\"1\" class=\"dataframe\">\n",
       "  <thead>\n",
       "    <tr style=\"text-align: right;\">\n",
       "      <th></th>\n",
       "      <th>Rank</th>\n",
       "      <th>Title</th>\n",
       "    </tr>\n",
       "  </thead>\n",
       "  <tbody>\n",
       "    <tr>\n",
       "      <th>1</th>\n",
       "      <td>8.3</td>\n",
       "      <td>Singin' in the Rain (1952)</td>\n",
       "    </tr>\n",
       "    <tr>\n",
       "      <th>2</th>\n",
       "      <td>8.3</td>\n",
       "      <td>All About Eve (1950)</td>\n",
       "    </tr>\n",
       "    <tr>\n",
       "      <th>3</th>\n",
       "      <td>8.6</td>\n",
       "      <td>Léon (1994)</td>\n",
       "    </tr>\n",
       "    <tr>\n",
       "      <th>4</th>\n",
       "      <td>8.2</td>\n",
       "      <td>The Elephant Man (1980)</td>\n",
       "    </tr>\n",
       "    <tr>\n",
       "      <th>5</th>\n",
       "      <td>8.3</td>\n",
       "      <td>Full Metal Jacket (1987)</td>\n",
       "    </tr>\n",
       "    <tr>\n",
       "      <th>6</th>\n",
       "      <td>8.1</td>\n",
       "      <td>Gone Girl (2014)</td>\n",
       "    </tr>\n",
       "    <tr>\n",
       "      <th>7</th>\n",
       "      <td>8.3</td>\n",
       "      <td>Batman Begins (2005)</td>\n",
       "    </tr>\n",
       "    <tr>\n",
       "      <th>8</th>\n",
       "      <td>8.2</td>\n",
       "      <td>Judgment at Nuremberg (1961)</td>\n",
       "    </tr>\n",
       "    <tr>\n",
       "      <th>9</th>\n",
       "      <td>8.0</td>\n",
       "      <td>Relatos salvajes (2014)</td>\n",
       "    </tr>\n",
       "    <tr>\n",
       "      <th>10</th>\n",
       "      <td>8.1</td>\n",
       "      <td>It Happened One Night (1934)</td>\n",
       "    </tr>\n",
       "  </tbody>\n",
       "</table>\n",
       "</div>"
      ],
      "text/plain": [
       "    Rank                         Title\n",
       "1    8.3    Singin' in the Rain (1952)\n",
       "2    8.3          All About Eve (1950)\n",
       "3    8.6                   Léon (1994)\n",
       "4    8.2       The Elephant Man (1980)\n",
       "5    8.3      Full Metal Jacket (1987)\n",
       "6    8.1              Gone Girl (2014)\n",
       "7    8.3          Batman Begins (2005)\n",
       "8    8.2  Judgment at Nuremberg (1961)\n",
       "9    8.0       Relatos salvajes (2014)\n",
       "10   8.1  It Happened One Night (1934)"
      ]
     },
     "execution_count": 17,
     "metadata": {},
     "output_type": "execute_result"
    }
   ],
   "source": [
    "#col = list_of_columns_to_view \n",
    "#df[col].head(num_of_rows_to_view)\n",
    "cols_1 = ['Rank', 'Title']\n",
    "df_1[cols_1].head(10)"
   ]
  },
  {
   "cell_type": "code",
   "execution_count": 18,
   "id": "e2ef1857",
   "metadata": {},
   "outputs": [
    {
     "data": {
      "text/html": [
       "<div>\n",
       "<style scoped>\n",
       "    .dataframe tbody tr th:only-of-type {\n",
       "        vertical-align: middle;\n",
       "    }\n",
       "\n",
       "    .dataframe tbody tr th {\n",
       "        vertical-align: top;\n",
       "    }\n",
       "\n",
       "    .dataframe thead th {\n",
       "        text-align: right;\n",
       "    }\n",
       "</style>\n",
       "<table border=\"1\" class=\"dataframe\">\n",
       "  <thead>\n",
       "    <tr style=\"text-align: right;\">\n",
       "      <th></th>\n",
       "      <th>Rank</th>\n",
       "      <th>Title</th>\n",
       "    </tr>\n",
       "  </thead>\n",
       "  <tbody>\n",
       "    <tr>\n",
       "      <th>240</th>\n",
       "      <td>8.4</td>\n",
       "      <td>The Great Dictator (1940)</td>\n",
       "    </tr>\n",
       "    <tr>\n",
       "      <th>241</th>\n",
       "      <td>8.1</td>\n",
       "      <td>Strangers on a Train (1951)</td>\n",
       "    </tr>\n",
       "    <tr>\n",
       "      <th>242</th>\n",
       "      <td>8.6</td>\n",
       "      <td>Cidade de Deus (2002)</td>\n",
       "    </tr>\n",
       "    <tr>\n",
       "      <th>243</th>\n",
       "      <td>8.4</td>\n",
       "      <td>Citizen Kane (1941)</td>\n",
       "    </tr>\n",
       "    <tr>\n",
       "      <th>244</th>\n",
       "      <td>8.1</td>\n",
       "      <td>8½ (1963)</td>\n",
       "    </tr>\n",
       "    <tr>\n",
       "      <th>245</th>\n",
       "      <td>8.7</td>\n",
       "      <td>Forrest Gump (1994)</td>\n",
       "    </tr>\n",
       "    <tr>\n",
       "      <th>246</th>\n",
       "      <td>8.1</td>\n",
       "      <td>Le salaire de la peur (1953)</td>\n",
       "    </tr>\n",
       "    <tr>\n",
       "      <th>247</th>\n",
       "      <td>8.2</td>\n",
       "      <td>3 Idiots (2009)</td>\n",
       "    </tr>\n",
       "    <tr>\n",
       "      <th>248</th>\n",
       "      <td>8.1</td>\n",
       "      <td>Network (1976)</td>\n",
       "    </tr>\n",
       "    <tr>\n",
       "      <th>249</th>\n",
       "      <td>8.3</td>\n",
       "      <td>Eternal Sunshine of the Spotless Mind (2004)</td>\n",
       "    </tr>\n",
       "  </tbody>\n",
       "</table>\n",
       "</div>"
      ],
      "text/plain": [
       "     Rank                                         Title\n",
       "240   8.4                     The Great Dictator (1940)\n",
       "241   8.1                   Strangers on a Train (1951)\n",
       "242   8.6                         Cidade de Deus (2002)\n",
       "243   8.4                           Citizen Kane (1941)\n",
       "244   8.1                                     8½ (1963)\n",
       "245   8.7                           Forrest Gump (1994)\n",
       "246   8.1                  Le salaire de la peur (1953)\n",
       "247   8.2                               3 Idiots (2009)\n",
       "248   8.1                                Network (1976)\n",
       "249   8.3  Eternal Sunshine of the Spotless Mind (2004)"
      ]
     },
     "execution_count": 18,
     "metadata": {},
     "output_type": "execute_result"
    }
   ],
   "source": [
    "df_1[cols_1].tail(10)"
   ]
  },
  {
   "cell_type": "code",
   "execution_count": 19,
   "id": "3a3ee5ee",
   "metadata": {},
   "outputs": [
    {
     "data": {
      "text/html": [
       "<div>\n",
       "<style scoped>\n",
       "    .dataframe tbody tr th:only-of-type {\n",
       "        vertical-align: middle;\n",
       "    }\n",
       "\n",
       "    .dataframe tbody tr th {\n",
       "        vertical-align: top;\n",
       "    }\n",
       "\n",
       "    .dataframe thead th {\n",
       "        text-align: right;\n",
       "    }\n",
       "</style>\n",
       "<table border=\"1\" class=\"dataframe\">\n",
       "  <thead>\n",
       "    <tr style=\"text-align: right;\">\n",
       "      <th></th>\n",
       "      <th>Total Votes</th>\n",
       "      <th>Rank</th>\n",
       "      <th>Movie Title</th>\n",
       "      <th>Year</th>\n",
       "      <th>Decade</th>\n",
       "    </tr>\n",
       "  </thead>\n",
       "  <tbody>\n",
       "    <tr>\n",
       "      <th>1</th>\n",
       "      <td>132823</td>\n",
       "      <td>8.3</td>\n",
       "      <td>Singin' in the Rain (1952)</td>\n",
       "      <td>1952</td>\n",
       "      <td>1950</td>\n",
       "    </tr>\n",
       "    <tr>\n",
       "      <th>2</th>\n",
       "      <td>74178</td>\n",
       "      <td>8.3</td>\n",
       "      <td>All About Eve (1950)</td>\n",
       "      <td>1950</td>\n",
       "      <td>1950</td>\n",
       "    </tr>\n",
       "    <tr>\n",
       "      <th>3</th>\n",
       "      <td>635139</td>\n",
       "      <td>8.6</td>\n",
       "      <td>Léon (1994)</td>\n",
       "      <td>1994</td>\n",
       "      <td>1990</td>\n",
       "    </tr>\n",
       "    <tr>\n",
       "      <th>4</th>\n",
       "      <td>145514</td>\n",
       "      <td>8.2</td>\n",
       "      <td>The Elephant Man (1980)</td>\n",
       "      <td>1980</td>\n",
       "      <td>1980</td>\n",
       "    </tr>\n",
       "    <tr>\n",
       "      <th>5</th>\n",
       "      <td>425461</td>\n",
       "      <td>8.3</td>\n",
       "      <td>Full Metal Jacket (1987)</td>\n",
       "      <td>1987</td>\n",
       "      <td>1980</td>\n",
       "    </tr>\n",
       "  </tbody>\n",
       "</table>\n",
       "</div>"
      ],
      "text/plain": [
       "   Total Votes  Rank                 Movie Title  Year  Decade\n",
       "1       132823   8.3  Singin' in the Rain (1952)  1952    1950\n",
       "2        74178   8.3        All About Eve (1950)  1950    1950\n",
       "3       635139   8.6                 Léon (1994)  1994    1990\n",
       "4       145514   8.2     The Elephant Man (1980)  1980    1980\n",
       "5       425461   8.3    Full Metal Jacket (1987)  1987    1980"
      ]
     },
     "execution_count": 19,
     "metadata": {},
     "output_type": "execute_result"
    }
   ],
   "source": [
    "#to save results, need to assign to new DataFrame \n",
    "new_df_1 = df_1.rename(columns={'Votes':'Total Votes','Title':'Movie Title'})\n",
    "new_df_1.head()"
   ]
  },
  {
   "cell_type": "code",
   "execution_count": 20,
   "id": "2328a4e9",
   "metadata": {},
   "outputs": [
    {
     "data": {
      "text/plain": [
       "['Votes', 'Rank', 'Title', 'Year', 'Decade']"
      ]
     },
     "execution_count": 20,
     "metadata": {},
     "output_type": "execute_result"
    }
   ],
   "source": [
    "#without tolist method, returns Indexed object\n",
    "df_1.columns.tolist()"
   ]
  },
  {
   "cell_type": "code",
   "execution_count": 21,
   "id": "219c9477",
   "metadata": {},
   "outputs": [
    {
     "data": {
      "text/plain": [
       "8.1    53\n",
       "8.0    50\n",
       "8.3    38\n",
       "8.2    34\n",
       "8.5    24\n",
       "8.4    21\n",
       "8.6     9\n",
       "8.7     9\n",
       "8.9     6\n",
       "9.2     2\n",
       "8.8     2\n",
       "9.0     1\n",
       "Name: Rank, dtype: int64"
      ]
     },
     "execution_count": 21,
     "metadata": {},
     "output_type": "execute_result"
    }
   ],
   "source": [
    "df_1['Rank'].value_counts() #returns key, frequency pair"
   ]
  },
  {
   "cell_type": "code",
   "execution_count": 22,
   "id": "80ce899d",
   "metadata": {},
   "outputs": [
    {
     "data": {
      "text/plain": [
       "14"
      ]
     },
     "execution_count": 22,
     "metadata": {},
     "output_type": "execute_result"
    }
   ],
   "source": [
    "df_1['Decade'].value_counts()[1940] #returns frequency of a key value"
   ]
  },
  {
   "cell_type": "code",
   "execution_count": 23,
   "id": "8fdbf1bf",
   "metadata": {},
   "outputs": [
    {
     "data": {
      "text/html": [
       "<div>\n",
       "<style scoped>\n",
       "    .dataframe tbody tr th:only-of-type {\n",
       "        vertical-align: middle;\n",
       "    }\n",
       "\n",
       "    .dataframe tbody tr th {\n",
       "        vertical-align: top;\n",
       "    }\n",
       "\n",
       "    .dataframe thead th {\n",
       "        text-align: right;\n",
       "    }\n",
       "</style>\n",
       "<table border=\"1\" class=\"dataframe\">\n",
       "  <thead>\n",
       "    <tr style=\"text-align: right;\">\n",
       "      <th></th>\n",
       "      <th>Votes</th>\n",
       "      <th>Rank</th>\n",
       "      <th>Title</th>\n",
       "      <th>Year</th>\n",
       "      <th>Decade</th>\n",
       "    </tr>\n",
       "  </thead>\n",
       "  <tbody>\n",
       "    <tr>\n",
       "      <th>0</th>\n",
       "      <td>132823</td>\n",
       "      <td>8.3</td>\n",
       "      <td>Singin' in the Rain (1952)</td>\n",
       "      <td>1952</td>\n",
       "      <td>1950</td>\n",
       "    </tr>\n",
       "    <tr>\n",
       "      <th>1</th>\n",
       "      <td>74178</td>\n",
       "      <td>8.3</td>\n",
       "      <td>All About Eve (1950)</td>\n",
       "      <td>1950</td>\n",
       "      <td>1950</td>\n",
       "    </tr>\n",
       "    <tr>\n",
       "      <th>2</th>\n",
       "      <td>635139</td>\n",
       "      <td>8.6</td>\n",
       "      <td>Léon (1994)</td>\n",
       "      <td>1994</td>\n",
       "      <td>1990</td>\n",
       "    </tr>\n",
       "    <tr>\n",
       "      <th>3</th>\n",
       "      <td>145514</td>\n",
       "      <td>8.2</td>\n",
       "      <td>The Elephant Man (1980)</td>\n",
       "      <td>1980</td>\n",
       "      <td>1980</td>\n",
       "    </tr>\n",
       "    <tr>\n",
       "      <th>4</th>\n",
       "      <td>425461</td>\n",
       "      <td>8.3</td>\n",
       "      <td>Full Metal Jacket (1987)</td>\n",
       "      <td>1987</td>\n",
       "      <td>1980</td>\n",
       "    </tr>\n",
       "  </tbody>\n",
       "</table>\n",
       "</div>"
      ],
      "text/plain": [
       "    Votes  Rank                       Title  Year  Decade\n",
       "0  132823   8.3  Singin' in the Rain (1952)  1952    1950\n",
       "1   74178   8.3        All About Eve (1950)  1950    1950\n",
       "2  635139   8.6                 Léon (1994)  1994    1990\n",
       "3  145514   8.2     The Elephant Man (1980)  1980    1980\n",
       "4  425461   8.3    Full Metal Jacket (1987)  1987    1980"
      ]
     },
     "execution_count": 23,
     "metadata": {},
     "output_type": "execute_result"
    }
   ],
   "source": [
    "new_df_1 = df_1.reset_index(drop=True,inplace=False) #revert back to original indexing\n",
    "new_df_1.head()"
   ]
  },
  {
   "cell_type": "code",
   "execution_count": 24,
   "id": "74e293d0",
   "metadata": {},
   "outputs": [
    {
     "data": {
      "text/html": [
       "<div>\n",
       "<style scoped>\n",
       "    .dataframe tbody tr th:only-of-type {\n",
       "        vertical-align: middle;\n",
       "    }\n",
       "\n",
       "    .dataframe tbody tr th {\n",
       "        vertical-align: top;\n",
       "    }\n",
       "\n",
       "    .dataframe thead th {\n",
       "        text-align: right;\n",
       "    }\n",
       "</style>\n",
       "<table border=\"1\" class=\"dataframe\">\n",
       "  <thead>\n",
       "    <tr style=\"text-align: right;\">\n",
       "      <th></th>\n",
       "      <th>Rank</th>\n",
       "      <th>Title</th>\n",
       "      <th>Year</th>\n",
       "    </tr>\n",
       "  </thead>\n",
       "  <tbody>\n",
       "    <tr>\n",
       "      <th>1</th>\n",
       "      <td>8.3</td>\n",
       "      <td>Singin' in the Rain (1952)</td>\n",
       "      <td>1952</td>\n",
       "    </tr>\n",
       "    <tr>\n",
       "      <th>2</th>\n",
       "      <td>8.3</td>\n",
       "      <td>All About Eve (1950)</td>\n",
       "      <td>1950</td>\n",
       "    </tr>\n",
       "    <tr>\n",
       "      <th>3</th>\n",
       "      <td>8.6</td>\n",
       "      <td>Léon (1994)</td>\n",
       "      <td>1994</td>\n",
       "    </tr>\n",
       "    <tr>\n",
       "      <th>4</th>\n",
       "      <td>8.2</td>\n",
       "      <td>The Elephant Man (1980)</td>\n",
       "      <td>1980</td>\n",
       "    </tr>\n",
       "    <tr>\n",
       "      <th>5</th>\n",
       "      <td>8.3</td>\n",
       "      <td>Full Metal Jacket (1987)</td>\n",
       "      <td>1987</td>\n",
       "    </tr>\n",
       "  </tbody>\n",
       "</table>\n",
       "</div>"
      ],
      "text/plain": [
       "   Rank                       Title  Year\n",
       "1   8.3  Singin' in the Rain (1952)  1952\n",
       "2   8.3        All About Eve (1950)  1950\n",
       "3   8.6                 Léon (1994)  1994\n",
       "4   8.2     The Elephant Man (1980)  1980\n",
       "5   8.3    Full Metal Jacket (1987)  1987"
      ]
     },
     "execution_count": 24,
     "metadata": {},
     "output_type": "execute_result"
    }
   ],
   "source": [
    "new_df_1 = df_1.drop(columns = ['Votes', 'Decade']) #not done in place\n",
    "new_df_1.head()"
   ]
  },
  {
   "cell_type": "code",
   "execution_count": 25,
   "id": "fddf2da2",
   "metadata": {},
   "outputs": [
    {
     "data": {
      "text/html": [
       "<div>\n",
       "<style scoped>\n",
       "    .dataframe tbody tr th:only-of-type {\n",
       "        vertical-align: middle;\n",
       "    }\n",
       "\n",
       "    .dataframe tbody tr th {\n",
       "        vertical-align: top;\n",
       "    }\n",
       "\n",
       "    .dataframe thead th {\n",
       "        text-align: right;\n",
       "    }\n",
       "</style>\n",
       "<table border=\"1\" class=\"dataframe\">\n",
       "  <thead>\n",
       "    <tr style=\"text-align: right;\">\n",
       "      <th></th>\n",
       "      <th>Title</th>\n",
       "      <th>Year</th>\n",
       "    </tr>\n",
       "    <tr>\n",
       "      <th>Rank</th>\n",
       "      <th></th>\n",
       "      <th></th>\n",
       "    </tr>\n",
       "  </thead>\n",
       "  <tbody>\n",
       "    <tr>\n",
       "      <th>8.3</th>\n",
       "      <td>Singin' in the Rain (1952)</td>\n",
       "      <td>1952</td>\n",
       "    </tr>\n",
       "    <tr>\n",
       "      <th>8.3</th>\n",
       "      <td>All About Eve (1950)</td>\n",
       "      <td>1950</td>\n",
       "    </tr>\n",
       "    <tr>\n",
       "      <th>8.6</th>\n",
       "      <td>Léon (1994)</td>\n",
       "      <td>1994</td>\n",
       "    </tr>\n",
       "    <tr>\n",
       "      <th>8.2</th>\n",
       "      <td>The Elephant Man (1980)</td>\n",
       "      <td>1980</td>\n",
       "    </tr>\n",
       "    <tr>\n",
       "      <th>8.3</th>\n",
       "      <td>Full Metal Jacket (1987)</td>\n",
       "      <td>1987</td>\n",
       "    </tr>\n",
       "  </tbody>\n",
       "</table>\n",
       "</div>"
      ],
      "text/plain": [
       "                           Title  Year\n",
       "Rank                                  \n",
       "8.3   Singin' in the Rain (1952)  1952\n",
       "8.3         All About Eve (1950)  1950\n",
       "8.6                  Léon (1994)  1994\n",
       "8.2      The Elephant Man (1980)  1980\n",
       "8.3     Full Metal Jacket (1987)  1987"
      ]
     },
     "execution_count": 25,
     "metadata": {},
     "output_type": "execute_result"
    }
   ],
   "source": [
    "new_df_1.set_index('Rank',inplace=True) #sets Rank as new index \n",
    "new_df_1.head()"
   ]
  },
  {
   "cell_type": "code",
   "execution_count": 26,
   "id": "ffb49881",
   "metadata": {},
   "outputs": [
    {
     "data": {
      "text/html": [
       "<div>\n",
       "<style scoped>\n",
       "    .dataframe tbody tr th:only-of-type {\n",
       "        vertical-align: middle;\n",
       "    }\n",
       "\n",
       "    .dataframe tbody tr th {\n",
       "        vertical-align: top;\n",
       "    }\n",
       "\n",
       "    .dataframe thead th {\n",
       "        text-align: right;\n",
       "    }\n",
       "</style>\n",
       "<table border=\"1\" class=\"dataframe\">\n",
       "  <thead>\n",
       "    <tr style=\"text-align: right;\">\n",
       "      <th></th>\n",
       "      <th>Votes</th>\n",
       "      <th>Rank</th>\n",
       "      <th>Title</th>\n",
       "      <th>Year</th>\n",
       "      <th>Decade</th>\n",
       "    </tr>\n",
       "  </thead>\n",
       "  <tbody>\n",
       "    <tr>\n",
       "      <th>245</th>\n",
       "      <td>1078416.0</td>\n",
       "      <td>8.7</td>\n",
       "      <td>Forrest Gump (1994)</td>\n",
       "      <td>1994.0</td>\n",
       "      <td>1990.0</td>\n",
       "    </tr>\n",
       "    <tr>\n",
       "      <th>246</th>\n",
       "      <td>31003.0</td>\n",
       "      <td>8.1</td>\n",
       "      <td>Le salaire de la peur (1953)</td>\n",
       "      <td>1953.0</td>\n",
       "      <td>1950.0</td>\n",
       "    </tr>\n",
       "    <tr>\n",
       "      <th>247</th>\n",
       "      <td>167076.0</td>\n",
       "      <td>8.2</td>\n",
       "      <td>3 Idiots (2009)</td>\n",
       "      <td>2009.0</td>\n",
       "      <td>2000.0</td>\n",
       "    </tr>\n",
       "    <tr>\n",
       "      <th>248</th>\n",
       "      <td>91689.0</td>\n",
       "      <td>8.1</td>\n",
       "      <td>Network (1976)</td>\n",
       "      <td>1976.0</td>\n",
       "      <td>1970.0</td>\n",
       "    </tr>\n",
       "    <tr>\n",
       "      <th>249</th>\n",
       "      <td>589477.0</td>\n",
       "      <td>8.3</td>\n",
       "      <td>Eternal Sunshine of the Spotless Mind (2004)</td>\n",
       "      <td>2004.0</td>\n",
       "      <td>2000.0</td>\n",
       "    </tr>\n",
       "    <tr>\n",
       "      <th>250</th>\n",
       "      <td>NaN</td>\n",
       "      <td>NaN</td>\n",
       "      <td>NaN</td>\n",
       "      <td>NaN</td>\n",
       "      <td>NaN</td>\n",
       "    </tr>\n",
       "    <tr>\n",
       "      <th>251</th>\n",
       "      <td>NaN</td>\n",
       "      <td>NaN</td>\n",
       "      <td>NaN</td>\n",
       "      <td>NaN</td>\n",
       "      <td>NaN</td>\n",
       "    </tr>\n",
       "    <tr>\n",
       "      <th>252</th>\n",
       "      <td>NaN</td>\n",
       "      <td>NaN</td>\n",
       "      <td>NaN</td>\n",
       "      <td>NaN</td>\n",
       "      <td>NaN</td>\n",
       "    </tr>\n",
       "    <tr>\n",
       "      <th>253</th>\n",
       "      <td>NaN</td>\n",
       "      <td>NaN</td>\n",
       "      <td>NaN</td>\n",
       "      <td>NaN</td>\n",
       "      <td>NaN</td>\n",
       "    </tr>\n",
       "    <tr>\n",
       "      <th>254</th>\n",
       "      <td>NaN</td>\n",
       "      <td>NaN</td>\n",
       "      <td>NaN</td>\n",
       "      <td>NaN</td>\n",
       "      <td>NaN</td>\n",
       "    </tr>\n",
       "  </tbody>\n",
       "</table>\n",
       "</div>"
      ],
      "text/plain": [
       "         Votes  Rank                                         Title    Year  \\\n",
       "245  1078416.0   8.7                           Forrest Gump (1994)  1994.0   \n",
       "246    31003.0   8.1                  Le salaire de la peur (1953)  1953.0   \n",
       "247   167076.0   8.2                               3 Idiots (2009)  2009.0   \n",
       "248    91689.0   8.1                                Network (1976)  1976.0   \n",
       "249   589477.0   8.3  Eternal Sunshine of the Spotless Mind (2004)  2004.0   \n",
       "250        NaN   NaN                                           NaN     NaN   \n",
       "251        NaN   NaN                                           NaN     NaN   \n",
       "252        NaN   NaN                                           NaN     NaN   \n",
       "253        NaN   NaN                                           NaN     NaN   \n",
       "254        NaN   NaN                                           NaN     NaN   \n",
       "\n",
       "     Decade  \n",
       "245  1990.0  \n",
       "246  1950.0  \n",
       "247  2000.0  \n",
       "248  1970.0  \n",
       "249  2000.0  \n",
       "250     NaN  \n",
       "251     NaN  \n",
       "252     NaN  \n",
       "253     NaN  \n",
       "254     NaN  "
      ]
     },
     "execution_count": 26,
     "metadata": {},
     "output_type": "execute_result"
    }
   ],
   "source": [
    "new_df_1 = df_1.reindex(index=np.arange(1, 255, 1)) #reindex with more rows \n",
    "new_df_1.tail(10) #new rows have missing values "
   ]
  },
  {
   "cell_type": "code",
   "execution_count": 27,
   "id": "984f6b18",
   "metadata": {},
   "outputs": [
    {
     "data": {
      "text/html": [
       "<div>\n",
       "<style scoped>\n",
       "    .dataframe tbody tr th:only-of-type {\n",
       "        vertical-align: middle;\n",
       "    }\n",
       "\n",
       "    .dataframe tbody tr th {\n",
       "        vertical-align: top;\n",
       "    }\n",
       "\n",
       "    .dataframe thead th {\n",
       "        text-align: right;\n",
       "    }\n",
       "</style>\n",
       "<table border=\"1\" class=\"dataframe\">\n",
       "  <thead>\n",
       "    <tr style=\"text-align: right;\">\n",
       "      <th></th>\n",
       "      <th>Votes</th>\n",
       "      <th>Rank</th>\n",
       "      <th>Title</th>\n",
       "      <th>Year</th>\n",
       "      <th>Decade</th>\n",
       "    </tr>\n",
       "  </thead>\n",
       "  <tbody>\n",
       "    <tr>\n",
       "      <th>240</th>\n",
       "      <td>117590.0</td>\n",
       "      <td>8.4</td>\n",
       "      <td>The Great Dictator (1940)</td>\n",
       "      <td>1940.0</td>\n",
       "      <td>1940.0</td>\n",
       "    </tr>\n",
       "    <tr>\n",
       "      <th>241</th>\n",
       "      <td>85012.0</td>\n",
       "      <td>8.1</td>\n",
       "      <td>Strangers on a Train (1951)</td>\n",
       "      <td>1951.0</td>\n",
       "      <td>1950.0</td>\n",
       "    </tr>\n",
       "    <tr>\n",
       "      <th>242</th>\n",
       "      <td>476501.0</td>\n",
       "      <td>8.6</td>\n",
       "      <td>Cidade de Deus (2002)</td>\n",
       "      <td>2002.0</td>\n",
       "      <td>2000.0</td>\n",
       "    </tr>\n",
       "    <tr>\n",
       "      <th>243</th>\n",
       "      <td>268905.0</td>\n",
       "      <td>8.4</td>\n",
       "      <td>Citizen Kane (1941)</td>\n",
       "      <td>1941.0</td>\n",
       "      <td>1940.0</td>\n",
       "    </tr>\n",
       "    <tr>\n",
       "      <th>244</th>\n",
       "      <td>69988.0</td>\n",
       "      <td>8.1</td>\n",
       "      <td>8½ (1963)</td>\n",
       "      <td>1963.0</td>\n",
       "      <td>1960.0</td>\n",
       "    </tr>\n",
       "    <tr>\n",
       "      <th>245</th>\n",
       "      <td>1078416.0</td>\n",
       "      <td>8.7</td>\n",
       "      <td>Forrest Gump (1994)</td>\n",
       "      <td>1994.0</td>\n",
       "      <td>1990.0</td>\n",
       "    </tr>\n",
       "    <tr>\n",
       "      <th>246</th>\n",
       "      <td>31003.0</td>\n",
       "      <td>8.1</td>\n",
       "      <td>Le salaire de la peur (1953)</td>\n",
       "      <td>1953.0</td>\n",
       "      <td>1950.0</td>\n",
       "    </tr>\n",
       "    <tr>\n",
       "      <th>247</th>\n",
       "      <td>167076.0</td>\n",
       "      <td>8.2</td>\n",
       "      <td>3 Idiots (2009)</td>\n",
       "      <td>2009.0</td>\n",
       "      <td>2000.0</td>\n",
       "    </tr>\n",
       "    <tr>\n",
       "      <th>248</th>\n",
       "      <td>91689.0</td>\n",
       "      <td>8.1</td>\n",
       "      <td>Network (1976)</td>\n",
       "      <td>1976.0</td>\n",
       "      <td>1970.0</td>\n",
       "    </tr>\n",
       "    <tr>\n",
       "      <th>249</th>\n",
       "      <td>589477.0</td>\n",
       "      <td>8.3</td>\n",
       "      <td>Eternal Sunshine of the Spotless Mind (2004)</td>\n",
       "      <td>2004.0</td>\n",
       "      <td>2000.0</td>\n",
       "    </tr>\n",
       "  </tbody>\n",
       "</table>\n",
       "</div>"
      ],
      "text/plain": [
       "         Votes  Rank                                         Title    Year  \\\n",
       "240   117590.0   8.4                     The Great Dictator (1940)  1940.0   \n",
       "241    85012.0   8.1                   Strangers on a Train (1951)  1951.0   \n",
       "242   476501.0   8.6                         Cidade de Deus (2002)  2002.0   \n",
       "243   268905.0   8.4                           Citizen Kane (1941)  1941.0   \n",
       "244    69988.0   8.1                                     8½ (1963)  1963.0   \n",
       "245  1078416.0   8.7                           Forrest Gump (1994)  1994.0   \n",
       "246    31003.0   8.1                  Le salaire de la peur (1953)  1953.0   \n",
       "247   167076.0   8.2                               3 Idiots (2009)  2009.0   \n",
       "248    91689.0   8.1                                Network (1976)  1976.0   \n",
       "249   589477.0   8.3  Eternal Sunshine of the Spotless Mind (2004)  2004.0   \n",
       "\n",
       "     Decade  \n",
       "240  1940.0  \n",
       "241  1950.0  \n",
       "242  2000.0  \n",
       "243  1940.0  \n",
       "244  1960.0  \n",
       "245  1990.0  \n",
       "246  1950.0  \n",
       "247  2000.0  \n",
       "248  1970.0  \n",
       "249  2000.0  "
      ]
     },
     "execution_count": 27,
     "metadata": {},
     "output_type": "execute_result"
    }
   ],
   "source": [
    "new_df_1.dropna(axis=0,inplace=True)\n",
    "new_df_1.tail(10)"
   ]
  },
  {
   "cell_type": "code",
   "execution_count": 28,
   "id": "544b89ed",
   "metadata": {},
   "outputs": [
    {
     "data": {
      "text/html": [
       "<div>\n",
       "<style scoped>\n",
       "    .dataframe tbody tr th:only-of-type {\n",
       "        vertical-align: middle;\n",
       "    }\n",
       "\n",
       "    .dataframe tbody tr th {\n",
       "        vertical-align: top;\n",
       "    }\n",
       "\n",
       "    .dataframe thead th {\n",
       "        text-align: right;\n",
       "    }\n",
       "</style>\n",
       "<table border=\"1\" class=\"dataframe\">\n",
       "  <thead>\n",
       "    <tr style=\"text-align: right;\">\n",
       "      <th></th>\n",
       "      <th>Votes</th>\n",
       "      <th>Rank</th>\n",
       "      <th>Title</th>\n",
       "      <th>Year</th>\n",
       "      <th>Decade</th>\n",
       "    </tr>\n",
       "  </thead>\n",
       "  <tbody>\n",
       "    <tr>\n",
       "      <th>1</th>\n",
       "      <td>132823</td>\n",
       "      <td>8.3</td>\n",
       "      <td>Singin' in the Rain (1952)</td>\n",
       "      <td>1952</td>\n",
       "      <td>1950</td>\n",
       "    </tr>\n",
       "    <tr>\n",
       "      <th>2</th>\n",
       "      <td>74178</td>\n",
       "      <td>8.3</td>\n",
       "      <td>All About Eve (1950)</td>\n",
       "      <td>1950</td>\n",
       "      <td>1950</td>\n",
       "    </tr>\n",
       "    <tr>\n",
       "      <th>12</th>\n",
       "      <td>156432</td>\n",
       "      <td>8.3</td>\n",
       "      <td>Some Like It Hot (1959)</td>\n",
       "      <td>1959</td>\n",
       "      <td>1950</td>\n",
       "    </tr>\n",
       "    <tr>\n",
       "      <th>35</th>\n",
       "      <td>56671</td>\n",
       "      <td>8.0</td>\n",
       "      <td>The Killing (1956)</td>\n",
       "      <td>1956</td>\n",
       "      <td>1950</td>\n",
       "    </tr>\n",
       "    <tr>\n",
       "      <th>51</th>\n",
       "      <td>87437</td>\n",
       "      <td>8.0</td>\n",
       "      <td>Roman Holiday (1953)</td>\n",
       "      <td>1953</td>\n",
       "      <td>1950</td>\n",
       "    </tr>\n",
       "  </tbody>\n",
       "</table>\n",
       "</div>"
      ],
      "text/plain": [
       "     Votes  Rank                       Title  Year  Decade\n",
       "1   132823   8.3  Singin' in the Rain (1952)  1952    1950\n",
       "2    74178   8.3        All About Eve (1950)  1950    1950\n",
       "12  156432   8.3     Some Like It Hot (1959)  1959    1950\n",
       "35   56671   8.0          The Killing (1956)  1956    1950\n",
       "51   87437   8.0        Roman Holiday (1953)  1953    1950"
      ]
     },
     "execution_count": 28,
     "metadata": {},
     "output_type": "execute_result"
    }
   ],
   "source": [
    "mask_1 = (df_1['Decade'] == 1950) \n",
    "#or \n",
    "mask_2 = df_1['Decade'].isin([1950, 1960])\n",
    "movies_1950s = df_1[mask_1]\n",
    "movies_1950s.head()"
   ]
  },
  {
   "cell_type": "code",
   "execution_count": 29,
   "id": "46f7c1ab",
   "metadata": {},
   "outputs": [
    {
     "data": {
      "text/html": [
       "<div>\n",
       "<style scoped>\n",
       "    .dataframe tbody tr th:only-of-type {\n",
       "        vertical-align: middle;\n",
       "    }\n",
       "\n",
       "    .dataframe tbody tr th {\n",
       "        vertical-align: top;\n",
       "    }\n",
       "\n",
       "    .dataframe thead th {\n",
       "        text-align: right;\n",
       "    }\n",
       "</style>\n",
       "<table border=\"1\" class=\"dataframe\">\n",
       "  <thead>\n",
       "    <tr style=\"text-align: right;\">\n",
       "      <th></th>\n",
       "      <th>Votes</th>\n",
       "      <th>Rank</th>\n",
       "      <th>Title</th>\n",
       "      <th>Year</th>\n",
       "      <th>Decade</th>\n",
       "    </tr>\n",
       "  </thead>\n",
       "  <tbody>\n",
       "    <tr>\n",
       "      <th>1</th>\n",
       "      <td>132823</td>\n",
       "      <td>8.3</td>\n",
       "      <td>Singin' in the Rain (1952)</td>\n",
       "      <td>1952</td>\n",
       "      <td>1950</td>\n",
       "    </tr>\n",
       "    <tr>\n",
       "      <th>2</th>\n",
       "      <td>74178</td>\n",
       "      <td>8.3</td>\n",
       "      <td>All About Eve (1950)</td>\n",
       "      <td>1950</td>\n",
       "      <td>1950</td>\n",
       "    </tr>\n",
       "    <tr>\n",
       "      <th>8</th>\n",
       "      <td>37664</td>\n",
       "      <td>8.2</td>\n",
       "      <td>Judgment at Nuremberg (1961)</td>\n",
       "      <td>1961</td>\n",
       "      <td>1960</td>\n",
       "    </tr>\n",
       "    <tr>\n",
       "      <th>12</th>\n",
       "      <td>156432</td>\n",
       "      <td>8.3</td>\n",
       "      <td>Some Like It Hot (1959)</td>\n",
       "      <td>1959</td>\n",
       "      <td>1950</td>\n",
       "    </tr>\n",
       "    <tr>\n",
       "      <th>18</th>\n",
       "      <td>134552</td>\n",
       "      <td>8.1</td>\n",
       "      <td>Butch Cassidy and the Sundance Kid (1969)</td>\n",
       "      <td>1969</td>\n",
       "      <td>1960</td>\n",
       "    </tr>\n",
       "  </tbody>\n",
       "</table>\n",
       "</div>"
      ],
      "text/plain": [
       "     Votes  Rank                                      Title  Year  Decade\n",
       "1   132823   8.3                 Singin' in the Rain (1952)  1952    1950\n",
       "2    74178   8.3                       All About Eve (1950)  1950    1950\n",
       "8    37664   8.2               Judgment at Nuremberg (1961)  1961    1960\n",
       "12  156432   8.3                    Some Like It Hot (1959)  1959    1950\n",
       "18  134552   8.1  Butch Cassidy and the Sundance Kid (1969)  1969    1960"
      ]
     },
     "execution_count": 29,
     "metadata": {},
     "output_type": "execute_result"
    }
   ],
   "source": [
    "movies_50_60s = df_1[mask_2]\n",
    "movies_50_60s.head()"
   ]
  },
  {
   "cell_type": "code",
   "execution_count": 30,
   "id": "e5ce1532",
   "metadata": {},
   "outputs": [
    {
     "data": {
      "text/html": [
       "<div>\n",
       "<style scoped>\n",
       "    .dataframe tbody tr th:only-of-type {\n",
       "        vertical-align: middle;\n",
       "    }\n",
       "\n",
       "    .dataframe tbody tr th {\n",
       "        vertical-align: top;\n",
       "    }\n",
       "\n",
       "    .dataframe thead th {\n",
       "        text-align: right;\n",
       "    }\n",
       "</style>\n",
       "<table border=\"1\" class=\"dataframe\">\n",
       "  <thead>\n",
       "    <tr style=\"text-align: right;\">\n",
       "      <th></th>\n",
       "      <th>Votes</th>\n",
       "      <th>Rank</th>\n",
       "      <th>Title</th>\n",
       "      <th>Year</th>\n",
       "      <th>Decade</th>\n",
       "    </tr>\n",
       "  </thead>\n",
       "  <tbody>\n",
       "    <tr>\n",
       "      <th>86</th>\n",
       "      <td>123879</td>\n",
       "      <td>8.5</td>\n",
       "      <td>Sunset Blvd. (1950)</td>\n",
       "      <td>1950</td>\n",
       "      <td>1950</td>\n",
       "    </tr>\n",
       "    <tr>\n",
       "      <th>98</th>\n",
       "      <td>206216</td>\n",
       "      <td>8.7</td>\n",
       "      <td>Shichinin no samurai (1954)</td>\n",
       "      <td>1954</td>\n",
       "      <td>1950</td>\n",
       "    </tr>\n",
       "    <tr>\n",
       "      <th>105</th>\n",
       "      <td>384187</td>\n",
       "      <td>8.9</td>\n",
       "      <td>12 Angry Men (1957)</td>\n",
       "      <td>1957</td>\n",
       "      <td>1950</td>\n",
       "    </tr>\n",
       "    <tr>\n",
       "      <th>217</th>\n",
       "      <td>280432</td>\n",
       "      <td>8.5</td>\n",
       "      <td>Rear Window (1954)</td>\n",
       "      <td>1954</td>\n",
       "      <td>1950</td>\n",
       "    </tr>\n",
       "  </tbody>\n",
       "</table>\n",
       "</div>"
      ],
      "text/plain": [
       "      Votes  Rank                        Title  Year  Decade\n",
       "86   123879   8.5          Sunset Blvd. (1950)  1950    1950\n",
       "98   206216   8.7  Shichinin no samurai (1954)  1954    1950\n",
       "105  384187   8.9          12 Angry Men (1957)  1957    1950\n",
       "217  280432   8.5           Rear Window (1954)  1954    1950"
      ]
     },
     "execution_count": 30,
     "metadata": {},
     "output_type": "execute_result"
    }
   ],
   "source": [
    "mask_3 = (mask_1 & (df_1['Rank'] >= 8.5))\n",
    "best_movies_1950s = df_1[mask_3]\n",
    "best_movies_1950s"
   ]
  },
  {
   "cell_type": "code",
   "execution_count": 31,
   "id": "bef9cda6",
   "metadata": {},
   "outputs": [
    {
     "data": {
      "text/html": [
       "<div>\n",
       "<style scoped>\n",
       "    .dataframe tbody tr th:only-of-type {\n",
       "        vertical-align: middle;\n",
       "    }\n",
       "\n",
       "    .dataframe tbody tr th {\n",
       "        vertical-align: top;\n",
       "    }\n",
       "\n",
       "    .dataframe thead th {\n",
       "        text-align: right;\n",
       "    }\n",
       "</style>\n",
       "<table border=\"1\" class=\"dataframe\">\n",
       "  <thead>\n",
       "    <tr style=\"text-align: right;\">\n",
       "      <th></th>\n",
       "      <th>Votes</th>\n",
       "      <th>Rank</th>\n",
       "      <th>Title</th>\n",
       "      <th>Year</th>\n",
       "      <th>Decade</th>\n",
       "    </tr>\n",
       "  </thead>\n",
       "  <tbody>\n",
       "    <tr>\n",
       "      <th>1</th>\n",
       "      <td>132823</td>\n",
       "      <td>8.3</td>\n",
       "      <td>Singin' in the Rain (1952)</td>\n",
       "      <td>1952</td>\n",
       "      <td>1950</td>\n",
       "    </tr>\n",
       "    <tr>\n",
       "      <th>2</th>\n",
       "      <td>74178</td>\n",
       "      <td>8.3</td>\n",
       "      <td>All About Eve (1950)</td>\n",
       "      <td>1950</td>\n",
       "      <td>1950</td>\n",
       "    </tr>\n",
       "    <tr>\n",
       "      <th>3</th>\n",
       "      <td>635139</td>\n",
       "      <td>8.6</td>\n",
       "      <td>Léon (1994)</td>\n",
       "      <td>1994</td>\n",
       "      <td>1990</td>\n",
       "    </tr>\n",
       "    <tr>\n",
       "      <th>4</th>\n",
       "      <td>145514</td>\n",
       "      <td>8.2</td>\n",
       "      <td>The Elephant Man (1980)</td>\n",
       "      <td>1980</td>\n",
       "      <td>1980</td>\n",
       "    </tr>\n",
       "    <tr>\n",
       "      <th>5</th>\n",
       "      <td>425461</td>\n",
       "      <td>8.3</td>\n",
       "      <td>Full Metal Jacket (1987)</td>\n",
       "      <td>1987</td>\n",
       "      <td>1980</td>\n",
       "    </tr>\n",
       "  </tbody>\n",
       "</table>\n",
       "</div>"
      ],
      "text/plain": [
       "    Votes  Rank                       Title  Year  Decade\n",
       "1  132823   8.3  Singin' in the Rain (1952)  1952    1950\n",
       "2   74178   8.3        All About Eve (1950)  1950    1950\n",
       "3  635139   8.6                 Léon (1994)  1994    1990\n",
       "4  145514   8.2     The Elephant Man (1980)  1980    1980\n",
       "5  425461   8.3    Full Metal Jacket (1987)  1987    1980"
      ]
     },
     "execution_count": 31,
     "metadata": {},
     "output_type": "execute_result"
    }
   ],
   "source": [
    "df_1.head()"
   ]
  },
  {
   "cell_type": "code",
   "execution_count": 32,
   "id": "de801d90",
   "metadata": {},
   "outputs": [
    {
     "data": {
      "text/plain": [
       "'All About Eve (1950)'"
      ]
     },
     "execution_count": 32,
     "metadata": {},
     "output_type": "execute_result"
    }
   ],
   "source": [
    "#row 1,column 2 \n",
    "df_1.iat[1, 2]"
   ]
  },
  {
   "cell_type": "code",
   "execution_count": 33,
   "id": "56a23b76",
   "metadata": {},
   "outputs": [
    {
     "data": {
      "text/plain": [
       "'The Elephant Man (1980)'"
      ]
     },
     "execution_count": 33,
     "metadata": {},
     "output_type": "execute_result"
    }
   ],
   "source": [
    "df_1.at[4, 'Title']"
   ]
  },
  {
   "cell_type": "code",
   "execution_count": 34,
   "id": "458c6298",
   "metadata": {},
   "outputs": [
    {
     "data": {
      "text/html": [
       "<div>\n",
       "<style scoped>\n",
       "    .dataframe tbody tr th:only-of-type {\n",
       "        vertical-align: middle;\n",
       "    }\n",
       "\n",
       "    .dataframe tbody tr th {\n",
       "        vertical-align: top;\n",
       "    }\n",
       "\n",
       "    .dataframe thead th {\n",
       "        text-align: right;\n",
       "    }\n",
       "</style>\n",
       "<table border=\"1\" class=\"dataframe\">\n",
       "  <thead>\n",
       "    <tr style=\"text-align: right;\">\n",
       "      <th></th>\n",
       "      <th>Rank</th>\n",
       "      <th>Title</th>\n",
       "    </tr>\n",
       "  </thead>\n",
       "  <tbody>\n",
       "    <tr>\n",
       "      <th>1</th>\n",
       "      <td>8.3</td>\n",
       "      <td>Singin' in the Rain (1952)</td>\n",
       "    </tr>\n",
       "    <tr>\n",
       "      <th>3</th>\n",
       "      <td>8.6</td>\n",
       "      <td>Léon (1994)</td>\n",
       "    </tr>\n",
       "    <tr>\n",
       "      <th>5</th>\n",
       "      <td>8.3</td>\n",
       "      <td>Full Metal Jacket (1987)</td>\n",
       "    </tr>\n",
       "  </tbody>\n",
       "</table>\n",
       "</div>"
      ],
      "text/plain": [
       "   Rank                       Title\n",
       "1   8.3  Singin' in the Rain (1952)\n",
       "3   8.6                 Léon (1994)\n",
       "5   8.3    Full Metal Jacket (1987)"
      ]
     },
     "execution_count": 34,
     "metadata": {},
     "output_type": "execute_result"
    }
   ],
   "source": [
    "#titles of movies at indices 1, 3, 5\n",
    "df_1.loc[[1,3,5], ['Rank', 'Title']] "
   ]
  },
  {
   "cell_type": "code",
   "execution_count": 35,
   "id": "340584bb",
   "metadata": {},
   "outputs": [
    {
     "data": {
      "text/html": [
       "<div>\n",
       "<style scoped>\n",
       "    .dataframe tbody tr th:only-of-type {\n",
       "        vertical-align: middle;\n",
       "    }\n",
       "\n",
       "    .dataframe tbody tr th {\n",
       "        vertical-align: top;\n",
       "    }\n",
       "\n",
       "    .dataframe thead th {\n",
       "        text-align: right;\n",
       "    }\n",
       "</style>\n",
       "<table border=\"1\" class=\"dataframe\">\n",
       "  <thead>\n",
       "    <tr style=\"text-align: right;\">\n",
       "      <th></th>\n",
       "      <th>Title</th>\n",
       "      <th>Year</th>\n",
       "    </tr>\n",
       "  </thead>\n",
       "  <tbody>\n",
       "    <tr>\n",
       "      <th>2</th>\n",
       "      <td>All About Eve (1950)</td>\n",
       "      <td>1950</td>\n",
       "    </tr>\n",
       "    <tr>\n",
       "      <th>4</th>\n",
       "      <td>The Elephant Man (1980)</td>\n",
       "      <td>1980</td>\n",
       "    </tr>\n",
       "  </tbody>\n",
       "</table>\n",
       "</div>"
      ],
      "text/plain": [
       "                     Title  Year\n",
       "2     All About Eve (1950)  1950\n",
       "4  The Elephant Man (1980)  1980"
      ]
     },
     "execution_count": 35,
     "metadata": {},
     "output_type": "execute_result"
    }
   ],
   "source": [
    "#indices 1, 3 /columns 2, 3\n",
    "df_1.iloc[[1,3],[2,3]]"
   ]
  },
  {
   "cell_type": "code",
   "execution_count": 36,
   "id": "d96cf557",
   "metadata": {},
   "outputs": [
    {
     "name": "stdout",
     "output_type": "stream",
     "text": [
      "86,178,431\n"
     ]
    }
   ],
   "source": [
    "total_votes = 0\n",
    "for i,row in df_1.iterrows():\n",
    "    total_votes += row['Votes']\n",
    "formatted_total = \"{:,}\".format(total_votes)\n",
    "print(formatted_total)  "
   ]
  },
  {
   "cell_type": "code",
   "execution_count": 37,
   "id": "917b2f4e",
   "metadata": {},
   "outputs": [
    {
     "name": "stdout",
     "output_type": "stream",
     "text": [
      "Average rank is  8.27\n"
     ]
    }
   ],
   "source": [
    "rank_totals = 0 \n",
    "for row in df_1.itertuples():\n",
    "    rank_totals += row.Rank\n",
    "avg_rank = rank_totals / df_1.shape[0]  # total / number of rows\n",
    "print(\"Average rank is \", round(avg_rank, 2))"
   ]
  },
  {
   "cell_type": "code",
   "execution_count": 38,
   "id": "7b7c23cb",
   "metadata": {},
   "outputs": [
    {
     "data": {
      "text/html": [
       "<div>\n",
       "<style scoped>\n",
       "    .dataframe tbody tr th:only-of-type {\n",
       "        vertical-align: middle;\n",
       "    }\n",
       "\n",
       "    .dataframe tbody tr th {\n",
       "        vertical-align: top;\n",
       "    }\n",
       "\n",
       "    .dataframe thead th {\n",
       "        text-align: right;\n",
       "    }\n",
       "</style>\n",
       "<table border=\"1\" class=\"dataframe\">\n",
       "  <thead>\n",
       "    <tr style=\"text-align: right;\">\n",
       "      <th></th>\n",
       "      <th>Votes</th>\n",
       "      <th>Rank</th>\n",
       "      <th>Title</th>\n",
       "      <th>Year</th>\n",
       "      <th>Decade</th>\n",
       "    </tr>\n",
       "  </thead>\n",
       "  <tbody>\n",
       "    <tr>\n",
       "      <th>173</th>\n",
       "      <td>55784</td>\n",
       "      <td>8.3</td>\n",
       "      <td>The Kid (1921)</td>\n",
       "      <td>1921</td>\n",
       "      <td>1920</td>\n",
       "    </tr>\n",
       "    <tr>\n",
       "      <th>205</th>\n",
       "      <td>58506</td>\n",
       "      <td>8.2</td>\n",
       "      <td>The Gold Rush (1925)</td>\n",
       "      <td>1925</td>\n",
       "      <td>1920</td>\n",
       "    </tr>\n",
       "    <tr>\n",
       "      <th>146</th>\n",
       "      <td>46332</td>\n",
       "      <td>8.2</td>\n",
       "      <td>The General (1926)</td>\n",
       "      <td>1926</td>\n",
       "      <td>1920</td>\n",
       "    </tr>\n",
       "    <tr>\n",
       "      <th>49</th>\n",
       "      <td>98794</td>\n",
       "      <td>8.3</td>\n",
       "      <td>Metropolis (1927)</td>\n",
       "      <td>1927</td>\n",
       "      <td>1920</td>\n",
       "    </tr>\n",
       "    <tr>\n",
       "      <th>216</th>\n",
       "      <td>92375</td>\n",
       "      <td>8.5</td>\n",
       "      <td>City Lights (1931)</td>\n",
       "      <td>1931</td>\n",
       "      <td>1930</td>\n",
       "    </tr>\n",
       "    <tr>\n",
       "      <th>10</th>\n",
       "      <td>56842</td>\n",
       "      <td>8.1</td>\n",
       "      <td>It Happened One Night (1934)</td>\n",
       "      <td>1934</td>\n",
       "      <td>1930</td>\n",
       "    </tr>\n",
       "    <tr>\n",
       "      <th>212</th>\n",
       "      <td>121668</td>\n",
       "      <td>8.5</td>\n",
       "      <td>Modern Times (1936)</td>\n",
       "      <td>1936</td>\n",
       "      <td>1930</td>\n",
       "    </tr>\n",
       "    <tr>\n",
       "      <th>101</th>\n",
       "      <td>259235</td>\n",
       "      <td>8.1</td>\n",
       "      <td>The Wizard of Oz (1939)</td>\n",
       "      <td>1939</td>\n",
       "      <td>1930</td>\n",
       "    </tr>\n",
       "    <tr>\n",
       "      <th>188</th>\n",
       "      <td>192791</td>\n",
       "      <td>8.1</td>\n",
       "      <td>Gone with the Wind (1939)</td>\n",
       "      <td>1939</td>\n",
       "      <td>1930</td>\n",
       "    </tr>\n",
       "    <tr>\n",
       "      <th>17</th>\n",
       "      <td>69510</td>\n",
       "      <td>8.2</td>\n",
       "      <td>Mr. Smith Goes to Washington (1939)</td>\n",
       "      <td>1939</td>\n",
       "      <td>1930</td>\n",
       "    </tr>\n",
       "  </tbody>\n",
       "</table>\n",
       "</div>"
      ],
      "text/plain": [
       "      Votes  Rank                                Title  Year  Decade\n",
       "173   55784   8.3                       The Kid (1921)  1921    1920\n",
       "205   58506   8.2                 The Gold Rush (1925)  1925    1920\n",
       "146   46332   8.2                   The General (1926)  1926    1920\n",
       "49    98794   8.3                    Metropolis (1927)  1927    1920\n",
       "216   92375   8.5                   City Lights (1931)  1931    1930\n",
       "10    56842   8.1         It Happened One Night (1934)  1934    1930\n",
       "212  121668   8.5                  Modern Times (1936)  1936    1930\n",
       "101  259235   8.1              The Wizard of Oz (1939)  1939    1930\n",
       "188  192791   8.1            Gone with the Wind (1939)  1939    1930\n",
       "17    69510   8.2  Mr. Smith Goes to Washington (1939)  1939    1930"
      ]
     },
     "execution_count": 38,
     "metadata": {},
     "output_type": "execute_result"
    }
   ],
   "source": [
    "#by default, not in place\n",
    "df_1.sort_values(by=['Year', 'Rank'], ascending=True).head(10) "
   ]
  },
  {
   "cell_type": "code",
   "execution_count": 39,
   "id": "8889f211",
   "metadata": {},
   "outputs": [
    {
     "data": {
      "text/plain": [
       "1    132.823\n",
       "2     74.178\n",
       "3    635.139\n",
       "4    145.514\n",
       "5    425.461\n",
       "Name: Votes, dtype: float64"
      ]
     },
     "execution_count": 39,
     "metadata": {},
     "output_type": "execute_result"
    }
   ],
   "source": [
    "def reformat_votes(v):\n",
    "    return v / 1000\n",
    "df_1['Votes'].apply(reformat_votes).head()"
   ]
  },
  {
   "cell_type": "code",
   "execution_count": 40,
   "id": "c1e2a12d",
   "metadata": {},
   "outputs": [
    {
     "data": {
      "text/plain": [
       "1    1328.23\n",
       "2     741.78\n",
       "3    6351.39\n",
       "4    1455.14\n",
       "5    4254.61\n",
       "Name: Votes, dtype: float64"
      ]
     },
     "execution_count": 40,
     "metadata": {},
     "output_type": "execute_result"
    }
   ],
   "source": [
    "def reformat_votes(v, size):\n",
    "    return v / size\n",
    "df_1['Votes'].apply(reformat_votes, size=100).head()"
   ]
  },
  {
   "cell_type": "code",
   "execution_count": 41,
   "id": "22fc84f2",
   "metadata": {},
   "outputs": [
    {
     "data": {
      "text/plain": [
       "1    16002.771084\n",
       "2     8937.108434\n",
       "3    73853.372093\n",
       "4    17745.609756\n",
       "5    51260.361446\n",
       "dtype: float64"
      ]
     },
     "execution_count": 41,
     "metadata": {},
     "output_type": "execute_result"
    }
   ],
   "source": [
    "def votes_per_rank(row):\n",
    "    return row['Votes'] / row['Rank']\n",
    "df_1[['Votes', 'Rank']].apply(votes_per_rank, axis=1).head()"
   ]
  },
  {
   "cell_type": "code",
   "execution_count": 42,
   "id": "2d12a81a",
   "metadata": {},
   "outputs": [
    {
     "data": {
      "text/html": [
       "<div>\n",
       "<style scoped>\n",
       "    .dataframe tbody tr th:only-of-type {\n",
       "        vertical-align: middle;\n",
       "    }\n",
       "\n",
       "    .dataframe tbody tr th {\n",
       "        vertical-align: top;\n",
       "    }\n",
       "\n",
       "    .dataframe thead th {\n",
       "        text-align: right;\n",
       "    }\n",
       "</style>\n",
       "<table border=\"1\" class=\"dataframe\">\n",
       "  <thead>\n",
       "    <tr style=\"text-align: right;\">\n",
       "      <th></th>\n",
       "      <th>Joe</th>\n",
       "      <th>Ben</th>\n",
       "      <th>Ann</th>\n",
       "    </tr>\n",
       "  </thead>\n",
       "  <tbody>\n",
       "    <tr>\n",
       "      <th>0</th>\n",
       "      <td>6.0</td>\n",
       "      <td>7.5</td>\n",
       "      <td>8.0</td>\n",
       "    </tr>\n",
       "    <tr>\n",
       "      <th>1</th>\n",
       "      <td>0.0</td>\n",
       "      <td>1.0</td>\n",
       "      <td>2.0</td>\n",
       "    </tr>\n",
       "    <tr>\n",
       "      <th>2</th>\n",
       "      <td>4.0</td>\n",
       "      <td>2.0</td>\n",
       "      <td>6.0</td>\n",
       "    </tr>\n",
       "  </tbody>\n",
       "</table>\n",
       "</div>"
      ],
      "text/plain": [
       "   Joe  Ben  Ann\n",
       "0  6.0  7.5  8.0\n",
       "1  0.0  1.0  2.0\n",
       "2  4.0  2.0  6.0"
      ]
     },
     "execution_count": 42,
     "metadata": {},
     "output_type": "execute_result"
    }
   ],
   "source": [
    "df_3"
   ]
  },
  {
   "cell_type": "code",
   "execution_count": 43,
   "id": "d498738b",
   "metadata": {},
   "outputs": [
    {
     "data": {
      "text/html": [
       "<div>\n",
       "<style scoped>\n",
       "    .dataframe tbody tr th:only-of-type {\n",
       "        vertical-align: middle;\n",
       "    }\n",
       "\n",
       "    .dataframe tbody tr th {\n",
       "        vertical-align: top;\n",
       "    }\n",
       "\n",
       "    .dataframe thead th {\n",
       "        text-align: right;\n",
       "    }\n",
       "</style>\n",
       "<table border=\"1\" class=\"dataframe\">\n",
       "  <thead>\n",
       "    <tr style=\"text-align: right;\">\n",
       "      <th></th>\n",
       "      <th>Joe</th>\n",
       "      <th>Ben</th>\n",
       "      <th>Ann</th>\n",
       "    </tr>\n",
       "  </thead>\n",
       "  <tbody>\n",
       "    <tr>\n",
       "      <th>0</th>\n",
       "      <td>60.0</td>\n",
       "      <td>75.0</td>\n",
       "      <td>80.0</td>\n",
       "    </tr>\n",
       "    <tr>\n",
       "      <th>1</th>\n",
       "      <td>0.0</td>\n",
       "      <td>10.0</td>\n",
       "      <td>20.0</td>\n",
       "    </tr>\n",
       "    <tr>\n",
       "      <th>2</th>\n",
       "      <td>40.0</td>\n",
       "      <td>20.0</td>\n",
       "      <td>60.0</td>\n",
       "    </tr>\n",
       "  </tbody>\n",
       "</table>\n",
       "</div>"
      ],
      "text/plain": [
       "    Joe   Ben   Ann\n",
       "0  60.0  75.0  80.0\n",
       "1   0.0  10.0  20.0\n",
       "2  40.0  20.0  60.0"
      ]
     },
     "execution_count": 43,
     "metadata": {},
     "output_type": "execute_result"
    }
   ],
   "source": [
    "def multiply_by_10(val):\n",
    "    return val * 10\n",
    "new_df_3 = df_3.applymap(multiply_by_10)\n",
    "new_df_3"
   ]
  },
  {
   "cell_type": "code",
   "execution_count": 44,
   "id": "1dd6ff4d",
   "metadata": {},
   "outputs": [
    {
     "data": {
      "text/html": [
       "<div>\n",
       "<style scoped>\n",
       "    .dataframe tbody tr th:only-of-type {\n",
       "        vertical-align: middle;\n",
       "    }\n",
       "\n",
       "    .dataframe tbody tr th {\n",
       "        vertical-align: top;\n",
       "    }\n",
       "\n",
       "    .dataframe thead th {\n",
       "        text-align: right;\n",
       "    }\n",
       "</style>\n",
       "<table border=\"1\" class=\"dataframe\">\n",
       "  <thead>\n",
       "    <tr style=\"text-align: right;\">\n",
       "      <th></th>\n",
       "      <th>Votes</th>\n",
       "      <th>Rank</th>\n",
       "      <th>Title</th>\n",
       "      <th>Year</th>\n",
       "      <th>Decade</th>\n",
       "    </tr>\n",
       "  </thead>\n",
       "  <tbody>\n",
       "    <tr>\n",
       "      <th>4</th>\n",
       "      <td>145514</td>\n",
       "      <td>8.2</td>\n",
       "      <td>The Elephant Man (1980)</td>\n",
       "      <td>1980</td>\n",
       "      <td>1980</td>\n",
       "    </tr>\n",
       "    <tr>\n",
       "      <th>38</th>\n",
       "      <td>532559</td>\n",
       "      <td>8.4</td>\n",
       "      <td>The Shining (1980)</td>\n",
       "      <td>1980</td>\n",
       "      <td>1980</td>\n",
       "    </tr>\n",
       "    <tr>\n",
       "      <th>67</th>\n",
       "      <td>96190</td>\n",
       "      <td>8.3</td>\n",
       "      <td>The Apartment (1960)</td>\n",
       "      <td>1960</td>\n",
       "      <td>1960</td>\n",
       "    </tr>\n",
       "    <tr>\n",
       "      <th>156</th>\n",
       "      <td>700283</td>\n",
       "      <td>8.7</td>\n",
       "      <td>Star Wars: Episode V - The Empire Strikes Back...</td>\n",
       "      <td>1980</td>\n",
       "      <td>1980</td>\n",
       "    </tr>\n",
       "    <tr>\n",
       "      <th>200</th>\n",
       "      <td>210647</td>\n",
       "      <td>8.2</td>\n",
       "      <td>Raging Bull (1980)</td>\n",
       "      <td>1980</td>\n",
       "      <td>1980</td>\n",
       "    </tr>\n",
       "    <tr>\n",
       "      <th>219</th>\n",
       "      <td>371791</td>\n",
       "      <td>8.5</td>\n",
       "      <td>Psycho (1960)</td>\n",
       "      <td>1960</td>\n",
       "      <td>1960</td>\n",
       "    </tr>\n",
       "  </tbody>\n",
       "</table>\n",
       "</div>"
      ],
      "text/plain": [
       "      Votes  Rank                                              Title  Year  \\\n",
       "4    145514   8.2                            The Elephant Man (1980)  1980   \n",
       "38   532559   8.4                                 The Shining (1980)  1980   \n",
       "67    96190   8.3                               The Apartment (1960)  1960   \n",
       "156  700283   8.7  Star Wars: Episode V - The Empire Strikes Back...  1980   \n",
       "200  210647   8.2                                 Raging Bull (1980)  1980   \n",
       "219  371791   8.5                                      Psycho (1960)  1960   \n",
       "\n",
       "     Decade  \n",
       "4      1980  \n",
       "38     1980  \n",
       "67     1960  \n",
       "156    1980  \n",
       "200    1980  \n",
       "219    1960  "
      ]
     },
     "execution_count": 44,
     "metadata": {},
     "output_type": "execute_result"
    }
   ],
   "source": [
    "df_1[df_1['Year'].isin([1980, 1970, 1960])]"
   ]
  },
  {
   "cell_type": "code",
   "execution_count": 45,
   "id": "5f33b53a",
   "metadata": {},
   "outputs": [
    {
     "data": {
      "text/html": [
       "<div>\n",
       "<style scoped>\n",
       "    .dataframe tbody tr th:only-of-type {\n",
       "        vertical-align: middle;\n",
       "    }\n",
       "\n",
       "    .dataframe tbody tr th {\n",
       "        vertical-align: top;\n",
       "    }\n",
       "\n",
       "    .dataframe thead th {\n",
       "        text-align: right;\n",
       "    }\n",
       "</style>\n",
       "<table border=\"1\" class=\"dataframe\">\n",
       "  <thead>\n",
       "    <tr style=\"text-align: right;\">\n",
       "      <th></th>\n",
       "      <th>Votes</th>\n",
       "      <th>Rank</th>\n",
       "      <th>Title</th>\n",
       "      <th>Year</th>\n",
       "      <th>Decade</th>\n",
       "    </tr>\n",
       "  </thead>\n",
       "  <tbody>\n",
       "    <tr>\n",
       "      <th>3</th>\n",
       "      <td>635139</td>\n",
       "      <td>8.6</td>\n",
       "      <td>Léon (1994)</td>\n",
       "      <td>1994</td>\n",
       "      <td>1990</td>\n",
       "    </tr>\n",
       "    <tr>\n",
       "      <th>4</th>\n",
       "      <td>145514</td>\n",
       "      <td>8.2</td>\n",
       "      <td>The Elephant Man (1980)</td>\n",
       "      <td>1980</td>\n",
       "      <td>1980</td>\n",
       "    </tr>\n",
       "    <tr>\n",
       "      <th>5</th>\n",
       "      <td>425461</td>\n",
       "      <td>8.3</td>\n",
       "      <td>Full Metal Jacket (1987)</td>\n",
       "      <td>1987</td>\n",
       "      <td>1980</td>\n",
       "    </tr>\n",
       "    <tr>\n",
       "      <th>6</th>\n",
       "      <td>441174</td>\n",
       "      <td>8.1</td>\n",
       "      <td>Gone Girl (2014)</td>\n",
       "      <td>2014</td>\n",
       "      <td>2010</td>\n",
       "    </tr>\n",
       "    <tr>\n",
       "      <th>7</th>\n",
       "      <td>850601</td>\n",
       "      <td>8.3</td>\n",
       "      <td>Batman Begins (2005)</td>\n",
       "      <td>2005</td>\n",
       "      <td>2000</td>\n",
       "    </tr>\n",
       "  </tbody>\n",
       "</table>\n",
       "</div>"
      ],
      "text/plain": [
       "    Votes  Rank                     Title  Year  Decade\n",
       "3  635139   8.6               Léon (1994)  1994    1990\n",
       "4  145514   8.2   The Elephant Man (1980)  1980    1980\n",
       "5  425461   8.3  Full Metal Jacket (1987)  1987    1980\n",
       "6  441174   8.1          Gone Girl (2014)  2014    2010\n",
       "7  850601   8.3      Batman Begins (2005)  2005    2000"
      ]
     },
     "execution_count": 45,
     "metadata": {},
     "output_type": "execute_result"
    }
   ],
   "source": [
    "df_1[~df_1['Decade'].isin([1950, 1960, 1970, 1930])].head()"
   ]
  },
  {
   "cell_type": "code",
   "execution_count": 46,
   "id": "8aec20ce",
   "metadata": {},
   "outputs": [
    {
     "data": {
      "text/html": [
       "<div>\n",
       "<style scoped>\n",
       "    .dataframe tbody tr th:only-of-type {\n",
       "        vertical-align: middle;\n",
       "    }\n",
       "\n",
       "    .dataframe tbody tr th {\n",
       "        vertical-align: top;\n",
       "    }\n",
       "\n",
       "    .dataframe thead th {\n",
       "        text-align: right;\n",
       "    }\n",
       "</style>\n",
       "<table border=\"1\" class=\"dataframe\">\n",
       "  <thead>\n",
       "    <tr style=\"text-align: right;\">\n",
       "      <th></th>\n",
       "      <th>Rank</th>\n",
       "    </tr>\n",
       "    <tr>\n",
       "      <th>Decade</th>\n",
       "      <th></th>\n",
       "    </tr>\n",
       "  </thead>\n",
       "  <tbody>\n",
       "    <tr>\n",
       "      <th>1920</th>\n",
       "      <td>8.250000</td>\n",
       "    </tr>\n",
       "    <tr>\n",
       "      <th>1930</th>\n",
       "      <td>8.250000</td>\n",
       "    </tr>\n",
       "    <tr>\n",
       "      <th>1940</th>\n",
       "      <td>8.257143</td>\n",
       "    </tr>\n",
       "    <tr>\n",
       "      <th>1950</th>\n",
       "      <td>8.233333</td>\n",
       "    </tr>\n",
       "    <tr>\n",
       "      <th>1960</th>\n",
       "      <td>8.231818</td>\n",
       "    </tr>\n",
       "    <tr>\n",
       "      <th>1970</th>\n",
       "      <td>8.309524</td>\n",
       "    </tr>\n",
       "    <tr>\n",
       "      <th>1980</th>\n",
       "      <td>8.241935</td>\n",
       "    </tr>\n",
       "    <tr>\n",
       "      <th>1990</th>\n",
       "      <td>8.357143</td>\n",
       "    </tr>\n",
       "    <tr>\n",
       "      <th>2000</th>\n",
       "      <td>8.260000</td>\n",
       "    </tr>\n",
       "    <tr>\n",
       "      <th>2010</th>\n",
       "      <td>8.200000</td>\n",
       "    </tr>\n",
       "  </tbody>\n",
       "</table>\n",
       "</div>"
      ],
      "text/plain": [
       "            Rank\n",
       "Decade          \n",
       "1920    8.250000\n",
       "1930    8.250000\n",
       "1940    8.257143\n",
       "1950    8.233333\n",
       "1960    8.231818\n",
       "1970    8.309524\n",
       "1980    8.241935\n",
       "1990    8.357143\n",
       "2000    8.260000\n",
       "2010    8.200000"
      ]
     },
     "execution_count": 46,
     "metadata": {},
     "output_type": "execute_result"
    }
   ],
   "source": [
    "df_1.groupby(['Decade']).agg({'Rank':'mean'})"
   ]
  },
  {
   "cell_type": "code",
   "execution_count": 47,
   "id": "2f0a8b96",
   "metadata": {},
   "outputs": [
    {
     "data": {
      "text/html": [
       "<div>\n",
       "<style scoped>\n",
       "    .dataframe tbody tr th:only-of-type {\n",
       "        vertical-align: middle;\n",
       "    }\n",
       "\n",
       "    .dataframe tbody tr th {\n",
       "        vertical-align: top;\n",
       "    }\n",
       "\n",
       "    .dataframe thead th {\n",
       "        text-align: right;\n",
       "    }\n",
       "</style>\n",
       "<table border=\"1\" class=\"dataframe\">\n",
       "  <thead>\n",
       "    <tr style=\"text-align: right;\">\n",
       "      <th></th>\n",
       "      <th>states</th>\n",
       "      <th>year</th>\n",
       "      <th>pop</th>\n",
       "    </tr>\n",
       "  </thead>\n",
       "  <tbody>\n",
       "    <tr>\n",
       "      <th>0</th>\n",
       "      <td>Ohio</td>\n",
       "      <td>2000</td>\n",
       "      <td>1.50</td>\n",
       "    </tr>\n",
       "    <tr>\n",
       "      <th>1</th>\n",
       "      <td>Ohio</td>\n",
       "      <td>2001</td>\n",
       "      <td>0.17</td>\n",
       "    </tr>\n",
       "    <tr>\n",
       "      <th>2</th>\n",
       "      <td>Ohio</td>\n",
       "      <td>2002</td>\n",
       "      <td>3.60</td>\n",
       "    </tr>\n",
       "    <tr>\n",
       "      <th>3</th>\n",
       "      <td>Nevada</td>\n",
       "      <td>2001</td>\n",
       "      <td>2.40</td>\n",
       "    </tr>\n",
       "    <tr>\n",
       "      <th>4</th>\n",
       "      <td>Nevada</td>\n",
       "      <td>2002</td>\n",
       "      <td>2.90</td>\n",
       "    </tr>\n",
       "    <tr>\n",
       "      <th>5</th>\n",
       "      <td>Nevada</td>\n",
       "      <td>2003</td>\n",
       "      <td>3.20</td>\n",
       "    </tr>\n",
       "  </tbody>\n",
       "</table>\n",
       "</div>"
      ],
      "text/plain": [
       "   states  year   pop\n",
       "0    Ohio  2000  1.50\n",
       "1    Ohio  2001  0.17\n",
       "2    Ohio  2002  3.60\n",
       "3  Nevada  2001  2.40\n",
       "4  Nevada  2002  2.90\n",
       "5  Nevada  2003  3.20"
      ]
     },
     "execution_count": 47,
     "metadata": {},
     "output_type": "execute_result"
    }
   ],
   "source": [
    "df_2"
   ]
  },
  {
   "cell_type": "code",
   "execution_count": 48,
   "id": "63212ea9",
   "metadata": {},
   "outputs": [
    {
     "data": {
      "text/html": [
       "<div>\n",
       "<style scoped>\n",
       "    .dataframe tbody tr th:only-of-type {\n",
       "        vertical-align: middle;\n",
       "    }\n",
       "\n",
       "    .dataframe tbody tr th {\n",
       "        vertical-align: top;\n",
       "    }\n",
       "\n",
       "    .dataframe thead th {\n",
       "        text-align: right;\n",
       "    }\n",
       "</style>\n",
       "<table border=\"1\" class=\"dataframe\">\n",
       "  <thead>\n",
       "    <tr style=\"text-align: right;\">\n",
       "      <th></th>\n",
       "      <th>states</th>\n",
       "      <th>pop</th>\n",
       "    </tr>\n",
       "    <tr>\n",
       "      <th>year</th>\n",
       "      <th></th>\n",
       "      <th></th>\n",
       "    </tr>\n",
       "  </thead>\n",
       "  <tbody>\n",
       "    <tr>\n",
       "      <th>2000</th>\n",
       "      <td>[Ohio]</td>\n",
       "      <td>[1.5]</td>\n",
       "    </tr>\n",
       "    <tr>\n",
       "      <th>2001</th>\n",
       "      <td>[Ohio, Nevada]</td>\n",
       "      <td>[0.17, 2.4]</td>\n",
       "    </tr>\n",
       "    <tr>\n",
       "      <th>2002</th>\n",
       "      <td>[Ohio, Nevada]</td>\n",
       "      <td>[3.6, 2.9]</td>\n",
       "    </tr>\n",
       "    <tr>\n",
       "      <th>2003</th>\n",
       "      <td>[Nevada]</td>\n",
       "      <td>[3.2]</td>\n",
       "    </tr>\n",
       "  </tbody>\n",
       "</table>\n",
       "</div>"
      ],
      "text/plain": [
       "              states          pop\n",
       "year                             \n",
       "2000          [Ohio]        [1.5]\n",
       "2001  [Ohio, Nevada]  [0.17, 2.4]\n",
       "2002  [Ohio, Nevada]   [3.6, 2.9]\n",
       "2003        [Nevada]        [3.2]"
      ]
     },
     "execution_count": 48,
     "metadata": {},
     "output_type": "execute_result"
    }
   ],
   "source": [
    "new_df_2=df_2.groupby(['year']).agg(list)\n",
    "new_df_2"
   ]
  },
  {
   "cell_type": "code",
   "execution_count": 49,
   "id": "dee507a9",
   "metadata": {},
   "outputs": [
    {
     "data": {
      "text/html": [
       "<div>\n",
       "<style scoped>\n",
       "    .dataframe tbody tr th:only-of-type {\n",
       "        vertical-align: middle;\n",
       "    }\n",
       "\n",
       "    .dataframe tbody tr th {\n",
       "        vertical-align: top;\n",
       "    }\n",
       "\n",
       "    .dataframe thead th {\n",
       "        text-align: right;\n",
       "    }\n",
       "</style>\n",
       "<table border=\"1\" class=\"dataframe\">\n",
       "  <thead>\n",
       "    <tr style=\"text-align: right;\">\n",
       "      <th></th>\n",
       "      <th>Votes</th>\n",
       "      <th>Rank</th>\n",
       "      <th>Title</th>\n",
       "      <th>Year</th>\n",
       "      <th>Decade</th>\n",
       "    </tr>\n",
       "  </thead>\n",
       "  <tbody>\n",
       "    <tr>\n",
       "      <th>119</th>\n",
       "      <td>36725</td>\n",
       "      <td>8.1</td>\n",
       "      <td>Les diaboliques (1955)</td>\n",
       "      <td>1955</td>\n",
       "      <td>1950</td>\n",
       "    </tr>\n",
       "    <tr>\n",
       "      <th>153</th>\n",
       "      <td>135556</td>\n",
       "      <td>8.3</td>\n",
       "      <td>Per qualche dollaro in più (1965)</td>\n",
       "      <td>1965</td>\n",
       "      <td>1960</td>\n",
       "    </tr>\n",
       "    <tr>\n",
       "      <th>205</th>\n",
       "      <td>58506</td>\n",
       "      <td>8.2</td>\n",
       "      <td>The Gold Rush (1925)</td>\n",
       "      <td>1925</td>\n",
       "      <td>1920</td>\n",
       "    </tr>\n",
       "    <tr>\n",
       "      <th>237</th>\n",
       "      <td>57974</td>\n",
       "      <td>8.0</td>\n",
       "      <td>The Night of the Hunter (1955)</td>\n",
       "      <td>1955</td>\n",
       "      <td>1950</td>\n",
       "    </tr>\n",
       "  </tbody>\n",
       "</table>\n",
       "</div>"
      ],
      "text/plain": [
       "      Votes  Rank                              Title  Year  Decade\n",
       "119   36725   8.1             Les diaboliques (1955)  1955    1950\n",
       "153  135556   8.3  Per qualche dollaro in più (1965)  1965    1960\n",
       "205   58506   8.2               The Gold Rush (1925)  1925    1920\n",
       "237   57974   8.0     The Night of the Hunter (1955)  1955    1950"
      ]
     },
     "execution_count": 49,
     "metadata": {},
     "output_type": "execute_result"
    }
   ],
   "source": [
    "mask_4 = df_1['Year'].isin([1925, 1935, 1945, 1955, 1965])\n",
    "movies_on_the_fives = df_1[mask_4]\n",
    "movies_on_the_fives"
   ]
  },
  {
   "cell_type": "code",
   "execution_count": 50,
   "id": "b1857024",
   "metadata": {},
   "outputs": [
    {
     "data": {
      "text/html": [
       "<div>\n",
       "<style scoped>\n",
       "    .dataframe tbody tr th:only-of-type {\n",
       "        vertical-align: middle;\n",
       "    }\n",
       "\n",
       "    .dataframe tbody tr th {\n",
       "        vertical-align: top;\n",
       "    }\n",
       "\n",
       "    .dataframe thead th {\n",
       "        text-align: right;\n",
       "    }\n",
       "</style>\n",
       "<table border=\"1\" class=\"dataframe\">\n",
       "  <thead>\n",
       "    <tr style=\"text-align: right;\">\n",
       "      <th></th>\n",
       "      <th>Votes</th>\n",
       "      <th>Rank</th>\n",
       "      <th>Title</th>\n",
       "      <th>Year</th>\n",
       "      <th>Decade</th>\n",
       "    </tr>\n",
       "  </thead>\n",
       "  <tbody>\n",
       "    <tr>\n",
       "      <th>87</th>\n",
       "      <td>1177098</td>\n",
       "      <td>8.8</td>\n",
       "      <td>Fight Club (1999)</td>\n",
       "      <td>1999</td>\n",
       "      <td>1990</td>\n",
       "    </tr>\n",
       "    <tr>\n",
       "      <th>178</th>\n",
       "      <td>1099087</td>\n",
       "      <td>8.8</td>\n",
       "      <td>The Lord of the Rings: The Fellowship of the R...</td>\n",
       "      <td>2001</td>\n",
       "      <td>2000</td>\n",
       "    </tr>\n",
       "  </tbody>\n",
       "</table>\n",
       "</div>"
      ],
      "text/plain": [
       "       Votes  Rank                                              Title  Year  \\\n",
       "87   1177098   8.8                                  Fight Club (1999)  1999   \n",
       "178  1099087   8.8  The Lord of the Rings: The Fellowship of the R...  2001   \n",
       "\n",
       "     Decade  \n",
       "87     1990  \n",
       "178    2000  "
      ]
     },
     "execution_count": 50,
     "metadata": {},
     "output_type": "execute_result"
    }
   ],
   "source": [
    "mask_5=(df_1['Rank'] == 8.8)\n",
    "movies_8_8=df_1[mask_5]\n",
    "movies_8_8"
   ]
  },
  {
   "cell_type": "code",
   "execution_count": 51,
   "id": "dd8b5a0c",
   "metadata": {},
   "outputs": [
    {
     "data": {
      "text/html": [
       "<div>\n",
       "<style scoped>\n",
       "    .dataframe tbody tr th:only-of-type {\n",
       "        vertical-align: middle;\n",
       "    }\n",
       "\n",
       "    .dataframe tbody tr th {\n",
       "        vertical-align: top;\n",
       "    }\n",
       "\n",
       "    .dataframe thead th {\n",
       "        text-align: right;\n",
       "    }\n",
       "</style>\n",
       "<table border=\"1\" class=\"dataframe\">\n",
       "  <thead>\n",
       "    <tr style=\"text-align: right;\">\n",
       "      <th></th>\n",
       "      <th>Votes</th>\n",
       "      <th>Rank</th>\n",
       "      <th>Title</th>\n",
       "      <th>Year</th>\n",
       "      <th>Decade</th>\n",
       "    </tr>\n",
       "  </thead>\n",
       "  <tbody>\n",
       "    <tr>\n",
       "      <th>119</th>\n",
       "      <td>36725</td>\n",
       "      <td>8.1</td>\n",
       "      <td>Les diaboliques (1955)</td>\n",
       "      <td>1955</td>\n",
       "      <td>1950</td>\n",
       "    </tr>\n",
       "    <tr>\n",
       "      <th>153</th>\n",
       "      <td>135556</td>\n",
       "      <td>8.3</td>\n",
       "      <td>Per qualche dollaro in più (1965)</td>\n",
       "      <td>1965</td>\n",
       "      <td>1960</td>\n",
       "    </tr>\n",
       "    <tr>\n",
       "      <th>205</th>\n",
       "      <td>58506</td>\n",
       "      <td>8.2</td>\n",
       "      <td>The Gold Rush (1925)</td>\n",
       "      <td>1925</td>\n",
       "      <td>1920</td>\n",
       "    </tr>\n",
       "    <tr>\n",
       "      <th>237</th>\n",
       "      <td>57974</td>\n",
       "      <td>8.0</td>\n",
       "      <td>The Night of the Hunter (1955)</td>\n",
       "      <td>1955</td>\n",
       "      <td>1950</td>\n",
       "    </tr>\n",
       "    <tr>\n",
       "      <th>87</th>\n",
       "      <td>1177098</td>\n",
       "      <td>8.8</td>\n",
       "      <td>Fight Club (1999)</td>\n",
       "      <td>1999</td>\n",
       "      <td>1990</td>\n",
       "    </tr>\n",
       "    <tr>\n",
       "      <th>178</th>\n",
       "      <td>1099087</td>\n",
       "      <td>8.8</td>\n",
       "      <td>The Lord of the Rings: The Fellowship of the R...</td>\n",
       "      <td>2001</td>\n",
       "      <td>2000</td>\n",
       "    </tr>\n",
       "  </tbody>\n",
       "</table>\n",
       "</div>"
      ],
      "text/plain": [
       "       Votes  Rank                                              Title  Year  \\\n",
       "119    36725   8.1                             Les diaboliques (1955)  1955   \n",
       "153   135556   8.3                  Per qualche dollaro in più (1965)  1965   \n",
       "205    58506   8.2                               The Gold Rush (1925)  1925   \n",
       "237    57974   8.0                     The Night of the Hunter (1955)  1955   \n",
       "87   1177098   8.8                                  Fight Club (1999)  1999   \n",
       "178  1099087   8.8  The Lord of the Rings: The Fellowship of the R...  2001   \n",
       "\n",
       "     Decade  \n",
       "119    1950  \n",
       "153    1960  \n",
       "205    1920  \n",
       "237    1950  \n",
       "87     1990  \n",
       "178    2000  "
      ]
     },
     "execution_count": 51,
     "metadata": {},
     "output_type": "execute_result"
    }
   ],
   "source": [
    "#vertical concatenation \n",
    "movies_on_fives_and_8_8 = pd.concat([movies_on_the_fives, movies_8_8], axis=0)\n",
    "movies_on_fives_and_8_8"
   ]
  },
  {
   "cell_type": "code",
   "execution_count": 52,
   "id": "9b9c3607",
   "metadata": {},
   "outputs": [],
   "source": [
    "df_4=pd.DataFrame({'Tim': [85, 90, 76], 'Tom': [67, 45, 80], 'Jen': [99, 94, 87]}, index=(['Quiz 1', 'Quiz 2', 'Quiz 3']))"
   ]
  },
  {
   "cell_type": "code",
   "execution_count": 53,
   "id": "8d93a645",
   "metadata": {},
   "outputs": [
    {
     "data": {
      "text/html": [
       "<div>\n",
       "<style scoped>\n",
       "    .dataframe tbody tr th:only-of-type {\n",
       "        vertical-align: middle;\n",
       "    }\n",
       "\n",
       "    .dataframe tbody tr th {\n",
       "        vertical-align: top;\n",
       "    }\n",
       "\n",
       "    .dataframe thead th {\n",
       "        text-align: right;\n",
       "    }\n",
       "</style>\n",
       "<table border=\"1\" class=\"dataframe\">\n",
       "  <thead>\n",
       "    <tr style=\"text-align: right;\">\n",
       "      <th></th>\n",
       "      <th>Tim</th>\n",
       "      <th>Tom</th>\n",
       "      <th>Jen</th>\n",
       "    </tr>\n",
       "  </thead>\n",
       "  <tbody>\n",
       "    <tr>\n",
       "      <th>Quiz 1</th>\n",
       "      <td>85</td>\n",
       "      <td>67</td>\n",
       "      <td>99</td>\n",
       "    </tr>\n",
       "    <tr>\n",
       "      <th>Quiz 2</th>\n",
       "      <td>90</td>\n",
       "      <td>45</td>\n",
       "      <td>94</td>\n",
       "    </tr>\n",
       "    <tr>\n",
       "      <th>Quiz 3</th>\n",
       "      <td>76</td>\n",
       "      <td>80</td>\n",
       "      <td>87</td>\n",
       "    </tr>\n",
       "  </tbody>\n",
       "</table>\n",
       "</div>"
      ],
      "text/plain": [
       "        Tim  Tom  Jen\n",
       "Quiz 1   85   67   99\n",
       "Quiz 2   90   45   94\n",
       "Quiz 3   76   80   87"
      ]
     },
     "execution_count": 53,
     "metadata": {},
     "output_type": "execute_result"
    }
   ],
   "source": [
    "df_4"
   ]
  },
  {
   "cell_type": "code",
   "execution_count": 54,
   "id": "6d409c84",
   "metadata": {},
   "outputs": [],
   "source": [
    "df_5 = pd.DataFrame({'Rob': [57, 20, 67], 'Ken': [76, 54, 60], 'Amy': [90, 49, 78]}, index=(['Quiz 1', 'Quiz 2', 'Quiz 3']))"
   ]
  },
  {
   "cell_type": "code",
   "execution_count": 55,
   "id": "dccaff48",
   "metadata": {},
   "outputs": [
    {
     "data": {
      "text/html": [
       "<div>\n",
       "<style scoped>\n",
       "    .dataframe tbody tr th:only-of-type {\n",
       "        vertical-align: middle;\n",
       "    }\n",
       "\n",
       "    .dataframe tbody tr th {\n",
       "        vertical-align: top;\n",
       "    }\n",
       "\n",
       "    .dataframe thead th {\n",
       "        text-align: right;\n",
       "    }\n",
       "</style>\n",
       "<table border=\"1\" class=\"dataframe\">\n",
       "  <thead>\n",
       "    <tr style=\"text-align: right;\">\n",
       "      <th></th>\n",
       "      <th>Rob</th>\n",
       "      <th>Ken</th>\n",
       "      <th>Amy</th>\n",
       "    </tr>\n",
       "  </thead>\n",
       "  <tbody>\n",
       "    <tr>\n",
       "      <th>Quiz 1</th>\n",
       "      <td>57</td>\n",
       "      <td>76</td>\n",
       "      <td>90</td>\n",
       "    </tr>\n",
       "    <tr>\n",
       "      <th>Quiz 2</th>\n",
       "      <td>20</td>\n",
       "      <td>54</td>\n",
       "      <td>49</td>\n",
       "    </tr>\n",
       "    <tr>\n",
       "      <th>Quiz 3</th>\n",
       "      <td>67</td>\n",
       "      <td>60</td>\n",
       "      <td>78</td>\n",
       "    </tr>\n",
       "  </tbody>\n",
       "</table>\n",
       "</div>"
      ],
      "text/plain": [
       "        Rob  Ken  Amy\n",
       "Quiz 1   57   76   90\n",
       "Quiz 2   20   54   49\n",
       "Quiz 3   67   60   78"
      ]
     },
     "execution_count": 55,
     "metadata": {},
     "output_type": "execute_result"
    }
   ],
   "source": [
    "df_5"
   ]
  },
  {
   "cell_type": "code",
   "execution_count": 56,
   "id": "56e02a05",
   "metadata": {},
   "outputs": [
    {
     "data": {
      "text/html": [
       "<div>\n",
       "<style scoped>\n",
       "    .dataframe tbody tr th:only-of-type {\n",
       "        vertical-align: middle;\n",
       "    }\n",
       "\n",
       "    .dataframe tbody tr th {\n",
       "        vertical-align: top;\n",
       "    }\n",
       "\n",
       "    .dataframe thead th {\n",
       "        text-align: right;\n",
       "    }\n",
       "</style>\n",
       "<table border=\"1\" class=\"dataframe\">\n",
       "  <thead>\n",
       "    <tr style=\"text-align: right;\">\n",
       "      <th></th>\n",
       "      <th>Tim</th>\n",
       "      <th>Tom</th>\n",
       "      <th>Jen</th>\n",
       "      <th>Rob</th>\n",
       "      <th>Ken</th>\n",
       "      <th>Amy</th>\n",
       "    </tr>\n",
       "  </thead>\n",
       "  <tbody>\n",
       "    <tr>\n",
       "      <th>Quiz 1</th>\n",
       "      <td>85</td>\n",
       "      <td>67</td>\n",
       "      <td>99</td>\n",
       "      <td>57</td>\n",
       "      <td>76</td>\n",
       "      <td>90</td>\n",
       "    </tr>\n",
       "    <tr>\n",
       "      <th>Quiz 2</th>\n",
       "      <td>90</td>\n",
       "      <td>45</td>\n",
       "      <td>94</td>\n",
       "      <td>20</td>\n",
       "      <td>54</td>\n",
       "      <td>49</td>\n",
       "    </tr>\n",
       "    <tr>\n",
       "      <th>Quiz 3</th>\n",
       "      <td>76</td>\n",
       "      <td>80</td>\n",
       "      <td>87</td>\n",
       "      <td>67</td>\n",
       "      <td>60</td>\n",
       "      <td>78</td>\n",
       "    </tr>\n",
       "  </tbody>\n",
       "</table>\n",
       "</div>"
      ],
      "text/plain": [
       "        Tim  Tom  Jen  Rob  Ken  Amy\n",
       "Quiz 1   85   67   99   57   76   90\n",
       "Quiz 2   90   45   94   20   54   49\n",
       "Quiz 3   76   80   87   67   60   78"
      ]
     },
     "execution_count": 56,
     "metadata": {},
     "output_type": "execute_result"
    }
   ],
   "source": [
    "#for horizontal concatenation \n",
    "combined_df= pd.concat([df_4, df_5], axis=1)\n",
    "combined_df "
   ]
  },
  {
   "cell_type": "code",
   "execution_count": 57,
   "id": "357a0866",
   "metadata": {},
   "outputs": [
    {
     "data": {
      "text/html": [
       "<div>\n",
       "<style scoped>\n",
       "    .dataframe tbody tr th:only-of-type {\n",
       "        vertical-align: middle;\n",
       "    }\n",
       "\n",
       "    .dataframe tbody tr th {\n",
       "        vertical-align: top;\n",
       "    }\n",
       "\n",
       "    .dataframe thead th {\n",
       "        text-align: right;\n",
       "    }\n",
       "</style>\n",
       "<table border=\"1\" class=\"dataframe\">\n",
       "  <thead>\n",
       "    <tr style=\"text-align: right;\">\n",
       "      <th></th>\n",
       "      <th>Name</th>\n",
       "      <th>Age</th>\n",
       "    </tr>\n",
       "  </thead>\n",
       "  <tbody>\n",
       "    <tr>\n",
       "      <th>0</th>\n",
       "      <td>Ed</td>\n",
       "      <td>76</td>\n",
       "    </tr>\n",
       "    <tr>\n",
       "      <th>1</th>\n",
       "      <td>Flo</td>\n",
       "      <td>54</td>\n",
       "    </tr>\n",
       "    <tr>\n",
       "      <th>2</th>\n",
       "      <td>Jed</td>\n",
       "      <td>60</td>\n",
       "    </tr>\n",
       "  </tbody>\n",
       "</table>\n",
       "</div>"
      ],
      "text/plain": [
       "  Name  Age\n",
       "0   Ed   76\n",
       "1  Flo   54\n",
       "2  Jed   60"
      ]
     },
     "execution_count": 57,
     "metadata": {},
     "output_type": "execute_result"
    }
   ],
   "source": [
    "df_6=pd.DataFrame({'Name': ['Ed', 'Flo', 'Jed'], 'Age': [76, 54, 60]})\n",
    "df_6"
   ]
  },
  {
   "cell_type": "code",
   "execution_count": 58,
   "id": "7f20dfd7",
   "metadata": {},
   "outputs": [
    {
     "data": {
      "text/html": [
       "<div>\n",
       "<style scoped>\n",
       "    .dataframe tbody tr th:only-of-type {\n",
       "        vertical-align: middle;\n",
       "    }\n",
       "\n",
       "    .dataframe tbody tr th {\n",
       "        vertical-align: top;\n",
       "    }\n",
       "\n",
       "    .dataframe thead th {\n",
       "        text-align: right;\n",
       "    }\n",
       "</style>\n",
       "<table border=\"1\" class=\"dataframe\">\n",
       "  <thead>\n",
       "    <tr style=\"text-align: right;\">\n",
       "      <th></th>\n",
       "      <th>Name</th>\n",
       "      <th>Salary</th>\n",
       "    </tr>\n",
       "  </thead>\n",
       "  <tbody>\n",
       "    <tr>\n",
       "      <th>0</th>\n",
       "      <td>Ed</td>\n",
       "      <td>95000</td>\n",
       "    </tr>\n",
       "    <tr>\n",
       "      <th>1</th>\n",
       "      <td>Flo</td>\n",
       "      <td>78000</td>\n",
       "    </tr>\n",
       "    <tr>\n",
       "      <th>2</th>\n",
       "      <td>Jed</td>\n",
       "      <td>57000</td>\n",
       "    </tr>\n",
       "  </tbody>\n",
       "</table>\n",
       "</div>"
      ],
      "text/plain": [
       "  Name  Salary\n",
       "0   Ed   95000\n",
       "1  Flo   78000\n",
       "2  Jed   57000"
      ]
     },
     "execution_count": 58,
     "metadata": {},
     "output_type": "execute_result"
    }
   ],
   "source": [
    "df_7=pd.DataFrame({'Name': ['Ed', 'Flo', 'Jed'], 'Salary': [95000, 78000, 57000]})\n",
    "df_7"
   ]
  },
  {
   "cell_type": "code",
   "execution_count": 59,
   "id": "ef945169",
   "metadata": {},
   "outputs": [
    {
     "data": {
      "text/html": [
       "<div>\n",
       "<style scoped>\n",
       "    .dataframe tbody tr th:only-of-type {\n",
       "        vertical-align: middle;\n",
       "    }\n",
       "\n",
       "    .dataframe tbody tr th {\n",
       "        vertical-align: top;\n",
       "    }\n",
       "\n",
       "    .dataframe thead th {\n",
       "        text-align: right;\n",
       "    }\n",
       "</style>\n",
       "<table border=\"1\" class=\"dataframe\">\n",
       "  <thead>\n",
       "    <tr style=\"text-align: right;\">\n",
       "      <th></th>\n",
       "      <th>Name</th>\n",
       "      <th>Age</th>\n",
       "      <th>Salary</th>\n",
       "    </tr>\n",
       "  </thead>\n",
       "  <tbody>\n",
       "    <tr>\n",
       "      <th>0</th>\n",
       "      <td>Ed</td>\n",
       "      <td>76</td>\n",
       "      <td>95000</td>\n",
       "    </tr>\n",
       "    <tr>\n",
       "      <th>1</th>\n",
       "      <td>Flo</td>\n",
       "      <td>54</td>\n",
       "      <td>78000</td>\n",
       "    </tr>\n",
       "    <tr>\n",
       "      <th>2</th>\n",
       "      <td>Jed</td>\n",
       "      <td>60</td>\n",
       "      <td>57000</td>\n",
       "    </tr>\n",
       "  </tbody>\n",
       "</table>\n",
       "</div>"
      ],
      "text/plain": [
       "  Name  Age  Salary\n",
       "0   Ed   76   95000\n",
       "1  Flo   54   78000\n",
       "2  Jed   60   57000"
      ]
     },
     "execution_count": 59,
     "metadata": {},
     "output_type": "execute_result"
    }
   ],
   "source": [
    "df_6.merge(df_7, on=['Name'],how='inner')"
   ]
  },
  {
   "cell_type": "code",
   "execution_count": null,
   "id": "422f6bb6",
   "metadata": {},
   "outputs": [],
   "source": [
    "#What are some useful things you can you do with numpy and pandas?\n",
    "\n",
    "#Pandas is a library built upon numpy that allows the user to clean \n",
    "#and prepare data for analyzing. Data may be manipulated and organized \n",
    "#through the creation of dataframes, selection of elements, slicing/reshaping/combining \n",
    "#arrays, performing numerical operations, and grouping/merging/filtering by specifications. \n",
    "#These are just a few of the useful things that can be done with numpy and pandas."
   ]
  },
  {
   "cell_type": "code",
   "execution_count": null,
   "id": "e6e7c130",
   "metadata": {},
   "outputs": [],
   "source": [
    "#Why would those useful things be helpful in data analysis?\n",
    "\n",
    "#These applications of numpy and pandas are useful because \n",
    "#they allow data analysts to refine and manipulate data to fit \n",
    "#the needs of the analyst. The ability to clean and visualize large \n",
    "#datasets is critical. "
   ]
  },
  {
   "cell_type": "code",
   "execution_count": null,
   "id": "e2e34e27",
   "metadata": {},
   "outputs": [],
   "source": [
    "#What challenges did you have in following the examples?\n",
    "\n",
    "#I did not have any challenges with following the examples. However,\n",
    "#I am sure I will run into difficulties as I implement these techniques \n",
    "#without guidance."
   ]
  }
 ],
 "metadata": {
  "kernelspec": {
   "display_name": "Python 3 (ipykernel)",
   "language": "python",
   "name": "python3"
  },
  "language_info": {
   "codemirror_mode": {
    "name": "ipython",
    "version": 3
   },
   "file_extension": ".py",
   "mimetype": "text/x-python",
   "name": "python",
   "nbconvert_exporter": "python",
   "pygments_lexer": "ipython3",
   "version": "3.9.7"
  }
 },
 "nbformat": 4,
 "nbformat_minor": 5
}
